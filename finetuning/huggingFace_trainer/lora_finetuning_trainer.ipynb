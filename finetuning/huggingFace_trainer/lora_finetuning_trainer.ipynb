{
 "cells": [
  {
   "cell_type": "code",
   "execution_count": 1,
   "id": "796de7f4",
   "metadata": {},
   "outputs": [
    {
     "ename": "SyntaxError",
     "evalue": "multiple exception types must be parenthesized (__init__.py, line 56)",
     "output_type": "error",
     "traceback": [
      "Traceback \u001b[36m(most recent call last)\u001b[39m:\n",
      "  File \u001b[92m~/Desktop/Personal_Code/SQL Finetune/.venv/lib/python3.11/site-packages/IPython/core/interactiveshell.py:3672\u001b[39m in \u001b[95mrun_code\u001b[39m\n    exec(code_obj, self.user_global_ns, self.user_ns)\n",
      "\u001b[36m  \u001b[39m\u001b[36mCell\u001b[39m\u001b[36m \u001b[39m\u001b[32mIn[1]\u001b[39m\u001b[32m, line 11\u001b[39m\n\u001b[31m    \u001b[39m\u001b[31mimport phoenix as px\u001b[39m\n",
      "  \u001b[36mFile \u001b[39m\u001b[32m~/Desktop/Personal_Code/SQL Finetune/.venv/lib/python3.11/site-packages/phoenix/__init__.py:56\u001b[39m\n\u001b[31m    \u001b[39m\u001b[31mexcept PhoenixError, e:\u001b[39m\n           ^\n\u001b[31mSyntaxError\u001b[39m\u001b[31m:\u001b[39m multiple exception types must be parenthesized\n"
     ]
    }
   ],
   "source": [
    "\n",
    "import json\n",
    "import numpy as np\n",
    "import evaluate\n",
    "from transformers import AutoModelForCausalLM, AutoTokenizer, DataCollatorWithPadding, TrainingArguments, Trainer\n",
    "from peft import LoraConfig, get_peft_model\n",
    "# import torch.nn as nn\n",
    "from datasets import load_dataset, Dataset\n",
    "import torch\n",
    "import time\n",
    "# from peft import PeftModel, PeftConfig\n",
    "import phoenix as px\n",
    "from phoenix.otel import register"
   ]
  },
  {
   "cell_type": "code",
   "execution_count": 3,
   "id": "7af03914",
   "metadata": {},
   "outputs": [],
   "source": [
    "\n",
    "\n",
    "device = \"mps\"\n"
   ]
  },
  {
   "cell_type": "code",
   "execution_count": 6,
   "id": "26033f3a",
   "metadata": {},
   "outputs": [],
   "source": [
    "\n",
    "# model_id = \"TinyLlama/TinyLlama-1.1B-Chat-v1.0\"\n",
    "model_id = \"meta-llama/Llama-3.2-1B-Instruct\"\n",
    "\n",
    "tokenizer = AutoTokenizer.from_pretrained(model_id, padding_side=\"right\")\n",
    "if not tokenizer.pad_token:\n",
    "    tokenizer.pad_token = tokenizer.eos_token\n",
    "# tokenizer.chat_template = '{{- bos_token }}\\n{%- if custom_tools is defined %}\\n    {%- set tools = custom_tools %}\\n{%- endif %}\\n{%- if not tools_in_user_message is defined %}\\n    {%- set tools_in_user_message = true %}\\n{%- endif %}\\n{%- if not date_string is defined %}\\n    {%- if strftime_now is defined %}\\n        {%- set date_string = strftime_now(\"%d %b %Y\") %}\\n    {%- else %}\\n        {%- set date_string = \"26 Jul 2024\" %}\\n    {%- endif %}\\n{%- endif %}\\n{%- if not tools is defined %}\\n    {%- set tools = none %}\\n{%- endif %}\\n\\n{#- This block extracts the system message, so we can slot it into the right place. #}\\n{%- if messages[0][\\'role\\'] == \\'system\\' %}\\n    {%- set system_message = messages[0][\\'content\\']|trim %}\\n    {%- set messages = messages[1:] %}\\n{%- else %}\\n    {%- set system_message = \"\" %}\\n{%- endif %}\\n\\n{#- System message #}\\n{{- \"<|start_header_id|>system<|end_header_id|>\\\\n\\\\n\" }}\\n{%- if tools is not none %}\\n    {{- \"Environment: ipython\\\\n\" }}\\n{%- endif %}\\n{%- if tools is not none and not tools_in_user_message %}\\n    {{- \"You have access to the following functions. To call a function, please respond with JSON for a function call.\" }}\\n    {{- \\'Respond in the format {\"name\": function name, \"parameters\": dictionary of argument name and its value}.\\' }}\\n    {{- \"Do not use variables.\\\\n\\\\n\" }}\\n    {%- for t in tools %}\\n        {{- t | tojson(indent=4) }}\\n        {{- \"\\\\n\\\\n\" }}\\n    {%- endfor %}\\n{%- endif %}\\n{{- system_message }}\\n{{- \"<|eot_id|>\" }}\\n\\n{#- Custom tools are passed in a user message with some extra guidance #}\\n{%- if tools_in_user_message and not tools is none %}\\n    {#- Extract the first user message so we can plug it in here #}\\n    {%- if messages | length != 0 %}\\n        {%- set first_user_message = messages[0][\\'content\\']|trim %}\\n        {%- set messages = messages[1:] %}\\n    {%- else %}\\n        {{- raise_exception(\"Cannot put tools in the first user message when there\\'s no first user message!\") }}\\n{%- endif %}\\n    {{- \\'<|start_header_id|>user<|end_header_id|>\\\\n\\\\n\\' -}}\\n    {{- \"Given the following functions, please respond with a JSON for a function call \" }}\\n    {{- \"with its proper arguments that best answers the given prompt.\\\\n\\\\n\" }}\\n    {{- \\'Respond in the format {\"name\": function name, \"parameters\": dictionary of argument name and its value}.\\' }}\\n    {{- \"Do not use variables.\\\\n\\\\n\" }}\\n    {%- for t in tools %}\\n        {{- t | tojson(indent=4) }}\\n        {{- \"\\\\n\\\\n\" }}\\n    {%- endfor %}\\n    {{- first_user_message + \"<|eot_id|>\"}}\\n{%- endif %}\\n\\n{%- for message in messages %}\\n    {%- if not (message.role == \\'ipython\\' or message.role == \\'tool\\' or \\'tool_calls\\' in message) %}\\n        {{- \\'<|start_header_id|>\\' + message[\\'role\\'] + \\'<|end_header_id|>\\\\n\\\\n\\'+ message[\\'content\\'] | trim + \\'<|eot_id|>\\' }}\\n    {%- elif \\'tool_calls\\' in message %}\\n        {%- if not message.tool_calls|length == 1 %}\\n            {{- raise_exception(\"This model only supports single tool-calls at once!\") }}\\n        {%- endif %}\\n        {%- set tool_call = message.tool_calls[0].function %}\\n        {{- \\'<|start_header_id|>assistant<|end_header_id|>\\\\n\\\\n\\' -}}\\n        {{- \\'{\"name\": \"\\' + tool_call.name + \\'\", \\' }}\\n        {{- \\'\"parameters\": \\' }}\\n        {{- tool_call.arguments | tojson }}\\n        {{- \"}\" }}\\n        {{- \"<|eot_id|>\" }}\\n    {%- elif message.role == \"tool\" or message.role == \"ipython\" %}\\n        {{- \"<|start_header_id|>ipython<|end_header_id|>\\\\n\\\\n\" }}\\n        {%- if message.content is mapping or message.content is iterable %}\\n            {{- message.content | tojson }}\\n        {%- else %}\\n            {{- message.content }}\\n        {%- endif %}\\n        {{- \"<|eot_id|>\" }}\\n    {%- endif %}\\n{%- endfor %}\\n{%- if add_generation_prompt %}\\n    {{- \\'<|start_header_id|>assistant<|end_header_id|>\\\\n\\\\n\\' }}\\n{%- endif %}\\n'\n",
    "\n",
    "model = AutoModelForCausalLM.from_pretrained(\"/Users/mann.kurani.ctr/Desktop/Personal_Code/SQL Finetune/models/finetuned_final_2_tinyllama\").to(device)\n",
    "# model = AutoModelForCausalLM.from_pretrained(model_id).to(device)\n",
    "# model = PeftModel.from_pretrained(model, \"/Users/mann.kurani.ctr/Desktop/Personal_Code/SQL Finetune/models/finetuned_final_2_tinyllama\").to(device)\n"
   ]
  },
  {
   "cell_type": "code",
   "execution_count": 4,
   "id": "8a1ff276",
   "metadata": {},
   "outputs": [],
   "source": [
    "\n",
    "# lora_config = LoraConfig(\n",
    "#     task_type=\"CAUSAL_LM\",\n",
    "#     r = 16,\n",
    "#     lora_alpha=32,\n",
    "#     lora_dropout=0.1,\n",
    "#     target_modules=[\"q_proj\", \"v_proj\", \"k_proj\", \"o_proj\"]\n",
    "# )\n",
    "\n",
    "# model = get_peft_model(model, lora_config)\n",
    "# model.print_trainable_parameters()\n"
   ]
  },
  {
   "cell_type": "code",
   "execution_count": 7,
   "id": "851ea91d",
   "metadata": {},
   "outputs": [],
   "source": [
    "\n",
    "\n",
    "def dataset_creation(n: int) -> Dataset:\n",
    "    \"\"\"Loads and trims the text-to-SQL dataset.\"\"\"\n",
    "    dataset = load_dataset(\"gretelai/synthetic_text_to_sql\")\n",
    "    columns_to_keep = ['sql_prompt', 'sql_context', 'sql']\n",
    "\n",
    "    # Filter only required columns\n",
    "    dataset = dataset[\"train\"].remove_columns(\n",
    "        [col for col in dataset[\"train\"].column_names if col not in columns_to_keep]\n",
    "    )\n",
    "\n",
    "    return dataset.select(range(n))\n",
    "\n"
   ]
  },
  {
   "cell_type": "code",
   "execution_count": 8,
   "id": "fc1f13bc",
   "metadata": {},
   "outputs": [],
   "source": [
    "\n",
    "def tokenize_fn(batch):\n",
    "    prompts = []\n",
    "    sql_outputs = []\n",
    "\n",
    "    for sql_prompt, sql_context, sql in zip(batch[\"sql_prompt\"], batch[\"sql_context\"], batch[\"sql\"]):\n",
    "        # Build the prompt using chat format\n",
    "        prompt = tokenizer.apply_chat_template(\n",
    "            [\n",
    "                {\"role\": \"system\", \"content\": \"You are a helpful assistant that converts SQL prompts and context into SQL queries. Do not give any additional comments or anything other than the sql query itself.\"},\n",
    "                {\"role\": \"user\", \"content\": json.dumps({\n",
    "                    \"sql_prompt\": sql_prompt,\n",
    "                    \"sql_context\": sql_context\n",
    "                })}\n",
    "            ],\n",
    "            tokenize=False,\n",
    "            add_generation_prompt=True\n",
    "        )\n",
    "        prompts.append(prompt)\n",
    "\n",
    "        # Format SQL output with EOS\n",
    "        sql_output = f'[{{\"sql\": \"{sql.strip()}\"}}]{tokenizer.eos_token}'\n",
    "        sql_outputs.append(sql_output)\n",
    "\n",
    "    # Full sequence = prompt + sql_output\n",
    "    full_texts = [p + o for p, o in zip(prompts, sql_outputs)]\n",
    "\n",
    "    # Tokenize full sequences\n",
    "    full_encodings = tokenizer(\n",
    "        full_texts,\n",
    "        truncation=True,\n",
    "        max_length=512,\n",
    "        padding=\"max_length\",\n",
    "        return_tensors=\"pt\"\n",
    "    )\n",
    "\n",
    "    input_ids = full_encodings[\"input_ids\"]\n",
    "    attention_mask = full_encodings[\"attention_mask\"]\n",
    "\n",
    "    # Get prompt lengths to mask label tokens for prompts\n",
    "    prompt_lengths = [\n",
    "        len(tokenizer(p, truncation=True, max_length=512)[\"input_ids\"])\n",
    "        for p in prompts\n",
    "    ]\n",
    "\n",
    "    labels = input_ids.clone()\n",
    "    for i, prompt_len in enumerate(prompt_lengths):\n",
    "        labels[i, :prompt_len] = -100  # Mask prompt tokens\n",
    "\n",
    "    return {\n",
    "        \"input_ids\": input_ids,\n",
    "        \"attention_mask\": attention_mask,\n",
    "        \"labels\": labels\n",
    "    }\n"
   ]
  },
  {
   "cell_type": "code",
   "execution_count": 9,
   "id": "c7124346",
   "metadata": {},
   "outputs": [
    {
     "data": {
      "application/vnd.jupyter.widget-view+json": {
       "model_id": "bc9749834ec64fe394e58e0cb08ea362",
       "version_major": 2,
       "version_minor": 0
      },
      "text/plain": [
       "Map:   0%|          | 0/4950 [00:00<?, ? examples/s]"
      ]
     },
     "metadata": {},
     "output_type": "display_data"
    },
    {
     "data": {
      "application/vnd.jupyter.widget-view+json": {
       "model_id": "dd74469f9f3648b497aded43886d82d2",
       "version_major": 2,
       "version_minor": 0
      },
      "text/plain": [
       "Map:   0%|          | 0/50 [00:00<?, ? examples/s]"
      ]
     },
     "metadata": {},
     "output_type": "display_data"
    }
   ],
   "source": [
    "\n",
    "\n",
    "df = dataset_creation(5000).train_test_split(0.01)\n",
    "\n",
    "\n",
    "train_df = df[\"train\"]\n",
    "eval_df = df[\"test\"]\n",
    "\n",
    "\n",
    "train_df = train_df.map(tokenize_fn, batched=True)\n",
    "eval_df = eval_df.map(tokenize_fn, batched=True)"
   ]
  },
  {
   "cell_type": "code",
   "execution_count": null,
   "id": "561121ac",
   "metadata": {},
   "outputs": [],
   "source": []
  },
  {
   "cell_type": "code",
   "execution_count": 8,
   "id": "3a1a2384",
   "metadata": {},
   "outputs": [],
   "source": [
    "\n",
    "# Load BLEU metric once\n",
    "bleu_metric = evaluate.load(\"bleu\")\n",
    "\n",
    "def compute_metrics(eval_pred):\n",
    "    logits, labels = eval_pred\n",
    "\n",
    "    # Pad labels and predictions to same shape if needed\n",
    "    if logits.shape[-1] != labels.shape[-1]:\n",
    "        labels = labels[:, :logits.shape[1]]\n",
    "\n",
    "    # Predicted token IDs (greedy)\n",
    "    predictions = np.argmax(logits, axis=-1)\n",
    "\n",
    "    # Replace -100 in labels with pad_token_id before decoding\n",
    "    labels = np.where(labels != -100, labels, tokenizer.pad_token_id)\n",
    "\n",
    "    # Decode\n",
    "    decoded_preds = tokenizer.batch_decode(predictions, skip_special_tokens=True)\n",
    "    decoded_labels = tokenizer.batch_decode(labels, skip_special_tokens=True)\n",
    "\n",
    "    # Clean whitespace\n",
    "    decoded_preds = [pred.strip() for pred in decoded_preds]\n",
    "    decoded_labels = [label.strip() for label in decoded_labels]\n",
    "\n",
    "    print(decoded_preds)\n",
    "    print(decoded_labels)\n",
    "\n",
    "    # BLEU requires list-of-references format\n",
    "    result = bleu_metric.compute(\n",
    "        predictions=decoded_preds,\n",
    "        references=[[label] for label in decoded_labels]\n",
    "    )\n",
    "\n",
    "    # Exact Match\n",
    "    exact_match = np.mean([\n",
    "        int(pred == label)\n",
    "        for pred, label in zip(decoded_preds, decoded_labels)\n",
    "    ])\n",
    "\n",
    "    print({\n",
    "        \"bleu\": result,          # BLEU score %\n",
    "        \"exact_match\": exact_match       # EM score %\n",
    "    })\n",
    "\n",
    "    return {\n",
    "        \"bleu\": round(result[\"bleu\"] * 100, 2),          # BLEU score %\n",
    "        \"exact_match\": round(exact_match * 100, 2)       # EM score %\n",
    "    }\n",
    "\n"
   ]
  },
  {
   "cell_type": "code",
   "execution_count": 9,
   "id": "354cebe9",
   "metadata": {},
   "outputs": [],
   "source": [
    "\n",
    "training_args = TrainingArguments(\n",
    "    output_dir=\"sql_generator_improved\",\n",
    "\n",
    "    # Basic training setup\n",
    "    num_train_epochs=10,\n",
    "    per_device_train_batch_size=2,\n",
    "    per_device_eval_batch_size=2,\n",
    "    gradient_accumulation_steps=8,\n",
    "    gradient_checkpointing=False,\n",
    "    # # Evaluation, logging, and saving\n",
    "    # eval_strategy=\"epoch\",\n",
    "    # logging_strategy=\"steps\",\n",
    "    # logging_steps=10,\n",
    "    # save_strategy=\"epoch\",\n",
    "    # save_total_limit=2,\n",
    "    \n",
    "    eval_strategy=\"steps\",\n",
    "    logging_strategy=\"steps\",\n",
    "    logging_steps=10,\n",
    "    save_strategy=\"steps\",\n",
    "    save_total_limit=10,\n",
    "    save_steps = 50,\n",
    "    eval_steps=50,\n",
    "\n",
    "    # Learning parameters\n",
    "    learning_rate=2e-4,\n",
    "    warmup_steps=50,\n",
    "    weight_decay=0.01,\n",
    "    label_names=[\"labels\"],\n",
    "\n",
    "    # Device & precision\n",
    "    fp16=False,\n",
    "    bf16=False,\n",
    "    dataloader_pin_memory=False,\n",
    "\n",
    "    # Meta & checkpointing\n",
    "    seed=42,\n",
    "    report_to=\"tensorboard\",\n",
    "    logging_dir=\"./logs\",\n",
    "    load_best_model_at_end=True,\n",
    "    # metric_for_best_model=\"exact_match\",\n",
    "    # greater_is_better=True,\n",
    ")\n"
   ]
  },
  {
   "cell_type": "code",
   "execution_count": 10,
   "id": "cce91eec",
   "metadata": {},
   "outputs": [],
   "source": [
    "\n",
    "\n",
    "data_collator = DataCollatorWithPadding(tokenizer=tokenizer)\n",
    "\n",
    "\n",
    "trainer = Trainer(\n",
    "    model=model,\n",
    "    args=training_args,\n",
    "    train_dataset=train_df,\n",
    "    eval_dataset=eval_df,\n",
    "    compute_metrics=compute_metrics,\n",
    "    data_collator=data_collator,\n",
    "    processing_class = tokenizer,\n",
    ")\n"
   ]
  },
  {
   "cell_type": "code",
   "execution_count": 11,
   "id": "c9afdfad",
   "metadata": {},
   "outputs": [
    {
     "data": {
      "text/html": [
       "\n",
       "    <div>\n",
       "      \n",
       "      <progress value='25' max='25' style='width:300px; height:20px; vertical-align: middle;'></progress>\n",
       "      [25/25 02:51]\n",
       "    </div>\n",
       "    "
      ],
      "text/plain": [
       "<IPython.core.display.HTML object>"
      ]
     },
     "metadata": {},
     "output_type": "display_data"
    },
    {
     "name": "stdout",
     "output_type": "stream",
     "text": [
      "['TagsTags:## off to Base:  020\\n\\nWith\\'s: February09 March 2023\\n\\nThis are a travel assistant, can text queries into SQL to actionable queries.\\n\\n \\n\\n you copy any information information or explanations that than the SQL queries.\\n\\n.\\n\\n depends\\n\\n[sql\":\": \"Find is the average number of rowsic functions metrics in each user model? the, (sql\":\": \"SELECT TABLE algorithmnessIncidents (\\nInc INT PRIMARY application_id(255), region VARCHAR(255), incident INT); INSERT INTO FairnessIncidents (id, app, region) incidents) VALUES (1, \\'AI App\\', \\'Europe\\', 10), (2, \\'AI Writer\\', \\'Europe\\', 15), (3, \\'AI Translator\\', \\'Europe\\', 18); (4, \\'AI Translatorainer\\', \\'Europe\\', 10); (5, \\'AI Writer\\', \\'Europe\\', 20); (6, \\'AI Artist\\', \\'Africa\\', 3); (7, \\'AI Artist\\', \\'Asia\\', 4), (8, \\'AI Expl\\', \\'Europe America\\', 20), (9, \\'AI Composer\\', \\'South America\\', 7); SELECT[{\"sql\": \"SELECT app, SUM(incidents) FROM total_incidents FROM FairnessIncidents WHERE region = \\'Europe\\' GROUP BY app;\"}]', 'TagsTags:## off to Base:  020\\n\\nWith\\'s: February09 March 2023\\n\\nThis are a travel assistant, can text queries into SQL to actionable queries.\\n\\n \\n\\n you copy any information information or explanations that than the SQL queries.\\n\\n.\\n\\n depends\\n\\n[sql\":\": \"Find of group in the are a than 5000 visitors visitors in (sql\":\": \"SELECT TABLE heritageSites (Site INT PRIMARY name VARCHAR(255), country VARCHAR(20), annual_visitors INT);\"} INTO HeritageSites (id, name, country, annual_visitors) VALUES (1, \\'Pyina of Marrz\\', \\'Morocco\\', 1000), (2, \\'Pyient City of Petra B\\', \\'Zimbabwe\\', 1200), (3, \\'M-Hewn Churches of Lalibela\\', \\'Ethiopia\\', 8000); (4, \\'M Mosque of Cairoenné00e9\\', \\'Mali\\', 4500); SELECT[{\"sql\": \"SELECT name, country, HeritageSites WHERE annual_visitors > 5000;\"}]', 'TagsTags:## off to Base:  020\\n\\nWith\\'s: February09 March 2023\\n\\nThis are a travel assistant, can text queries into SQL to actionable queries.\\n\\n \\n\\n you copy any information information or explanations that than the SQL queries.\\n\\n.\\n\\n depends\\n\\n[sql\":\": \"Find is the average number of rows calls in the database of California,context\":\": \"SELECT TABLE emergency_incidents (id INT PRIMARY state_date VARCHAR(50), location_date VARCHAR(50), incident_date DATE, incident VARCHAR(50), state VARCHAR(2))\"} INTO emergency_incidents (id, incident_type, incident_location, incident_date, city, state) VALUES (1, \\'Car\\',\\', \\'Houston Main St\\', \\'2022-01-01\\', \\'Austin\\', \\'Texas\\'), ([{\"sql\": \"SELECT COUNT(*) FROM emergency_incidents WHERE state = \\'TX\\';\"}]', 'TagsTags:## off to Base:  020\\n\\nWith\\'s: February09 March 2023\\n\\nThis are a travel assistant, can text queries into SQL to actionable queries.\\n\\n \\n\\n you copy any information information or explanations that than the SQL queries.\\n\\n.\\n\\n depends\\n\\n[sql\":\": \"Find are the top of have  to the  day as (sql\":\": \"SELECT TABLE supporters (id INT PRIMARY name_name, donation_date DATE); SELECT INTO donations (id, supporter, donation_date) VALUES (1, 1, \\'2022-01-01\\'); (2, 2, \\'2022-01-01\\'), (3, 3, \\'2022-01-02\\'); (4, 1, \\'2022-01-02\\'), SELECT[{\"sql\": \"SELECT supporter.supporter, supporter_name, b.supporter AS supporter2 FROM a.donation_date FROM donations a a JOIN JOIN donations AS b ON a.donation_date = b.donation_date WHERE a.supporter!= b.supporter;\"}]', 'TagsTags:## off to Base:  020\\n\\nWith\\'s: February09 March 2023\\n\\nThis are a travel assistant, can text queries into SQL to actionable queries.\\n\\n \\n\\n you copy any information information or explanations that than the SQL queries.\\n\\n.\\n\\n depends\\n\\n[sql\":\": \"Find many unique areas projects in been total of than 100.5 tons per {\"sql\":\": \"SELECT TABLE urban_agriculture_projectsid_name INT, project_name VARCHAR, yield_t, SELECT INTO urban_agriculture (crop_id, crop_name, yield) VALUES (1, \\'Cornato\\', 3.7), (2, \\'Carettuce\\', 3.8), (3, \\'Carucumbers\\', 3.1); (4, \\'Carrots\\', 1.1); SELECT[{\"sql\": \"SELECT COUNT(*) FROM urban_agriculture WHERE yield > 2.5;\"}]', 'TagsTags:## off to Base:  020\\n\\nWith\\'s: February09 March 2023\\n\\nThis are a travel assistant, can text queries into SQL to actionable queries.\\n\\n \\n\\n you copy any information information or explanations that than the SQL queries.\\n\\n.\\n\\n depends\\n\\n[sql\":\": \"Find is the average number of rows events in a United sector, (sql\":\": \"The TABLE healthcare_investments (id INT PRIMARY name_of(50), investment DECIMAL(10, 2), INSERT[{\"sql\": \"SELECT COUNT(*) FROM impact_investments WHERE area = \\'healthcare\\';\"}]', 'TagsTags:## off to Base:  020\\n\\nWith\\'s: February09 March 2023\\n\\nThis are a travel assistant, can text queries into SQL to actionable queries.\\n\\n \\n\\n you copy any information information or explanations that than the SQL queries.\\n\\n.\\n\\n depends\\n\\n[sql\":\": \"Find is the average value of rows of a given in the UnitedNortharms\\' table withsql\":\": \"SELECT TABLE farms (id INT PRIMARY name VARCHAR(255), acres INT); SELECT INTO farms (id, name, acres) VALUES (1, \\'Farm Farm\\', 1000 (2, \\'Johnson Farm\\', 200), (3, \\'Brown Farm\\', 50); SELECT[{\"sql\": \"SELECT MAX(acres) FROM max_acres FROM farms;\"}]', 'TagsTags:## off to Base:  020\\n\\nWith\\'s: February09 March 2023\\n\\nThis are a travel assistant, can text queries into SQL to actionable queries.\\n\\n \\n\\n you copy any information information or explanations that than the SQL queries.\\n\\n.\\n\\n depends\\n\\n[sql\":\": \"Find is the average number of all in by day\", the ship,\", the202terdam\\' portsql\":\": \"SELECT TABLE container_handid_name INT, port VARCHAR, country_at DATEETIME, SELECT TABLE container_agent (ship_agent_id INT, name_id INT, name TEXT,CREATE TABLE container (container_id INT, weight_agent_id INT, weight INT); created_at DATETIME);SELECT INTO port ( (1, \\'Rotterdam\\', \\'2022-01-01\\');INSERT[{\"sql\": \"SELECT ship_agent.name, SUM(container.weight) as ship_agent JOIN port ON ship_agent.port_id = port.port_id JOIN container ON ship_agent.ship_agent_id = container.ship_agent_id WHERE port.name = \\'Rotterdam\\' GROUP BY ship_agent.name, DATE(container.created_at);\"}]', 'TagsTags:## off to Base:  020\\n\\nWith\\'s: February09 March 2023\\n\\nThis are a travel assistant, can text queries into SQL to actionable queries.\\n\\n \\n\\n you copy any information information or explanations that than the SQL queries.\\n\\n.\\n\\n depends\\n\\n[sql\":\": \"Findify the top of rows in by a ship in company\", along by the number number of vessels owned each order\", and then the with  vessels in returnsql\":\": \"SELECT TABLE fleet (leet_id INT, fleet_name, SELECT TABLE vessels(fessel_id INT, fleet_id INT, company TEXT,INSERT INTO fleets ( (1,Company A\\'); (2,\\'Company B\\'),(3,\\'Company C\\');INSERT INTO vessels VALUES (1,1,Vessel 1\\'),(2,1,\\'Vessel 2\\'),(3,1,\\'Vessel 3\\');INSERT[{\"sql\": \"SELECT fleets.company, COUNT(v.vleet_id) as total_vessels FROM fleets f LEFT JOIN vessels v ON f.fleet_id = v.fleet_id GROUP BY f.company ORDER BY num_vessels DESC;\"}]', 'TagsTags:## off to Base:  020\\n\\nWith\\'s: February09 March 2023\\n\\nThis are a travel assistant, can text queries into SQL to actionable queries.\\n\\n \\n\\n you copy any information information or explanations that than the SQL queries.\\n\\n.\\n\\n depends\\n\\n[sql\":\": \"Find is the average number of by all fees in category? the2022 andsql\":\": \"SELECT TABLE programExpenses (DateID INT, DateName int, DateDate decimal, ExpenseDate date, SELECT[{\"sql\": \"SELECT EX_FORMAT(ExpenseDate, \\'%Y-%m\\') as Month, SUM(ExpenseAmount) as TotalSpenses FROM ProgramExpenses WHERE Expense(ExpenseDate) = 2021 GROUP BY Month;\"}]', 'TagsTags:## off to Base:  020\\n\\nWith\\'s: February09 March 2023\\n\\nThis are a travel assistant, can text queries into SQL to actionable queries.\\n\\n \\n\\n you copy any information information or explanations that than the SQL queries.\\n\\n.\\n\\n depends\\n\\n[sql\":\": \"Find is the average number of by the donors in the year States, 2022?sql\":\": \"SELECT TABLE donorsations (DonationID INT, NameorName varchar(255), Country varchar(20), YearDonated decimal, SELECT INTO Donors (DonorID, DonorName, Country, AmountDonated) VALUES (1, \\'John Doe\\', \\'United\\', 1000.0), (2, \\'Jane Smith\\', \\'USA\\', 2000.00), SELECT[{\"sql\": \"SELECT SUM(AmountDonated) FROM Donors WHERE Country = \\'USA\\' AND YEAR(DonationDate) = 2020; DonorType = \\'Individual\\';\"}]', 'TagsTags:## off to Base:  020\\n\\nWith\\'s: February09 March 2023\\n\\nThis are a travel assistant, can text queries into SQL to actionable queries.\\n\\n \\n\\n you copy any information information or explanations that than the SQL queries.\\n\\n.\\n\\n depends\\n\\n[sql\":\": \"Find the average of rows users in in a\\'s clothing. the&MO2020\",sql\":\": \"SELECT TABLE materials (material_name_id(255), quantity VARCHAR(255),\", INTO inventory (product_category, material) VALUES (\\'Women\\'sants\\', \\'cotton\\'), INSERT INTO inventory (product_category, material) VALUES (\\'women_pants\\', \\'polyester\\'); INSERT INTO inventory (product_category, material) VALUES (\\'women_pants\\', \\'nyilk\\'); INSERT[{\"sql\": \"SELECT COUNT(DISTINCT material) FROM inventory WHERE product_category = \\'women_pants\\' AND product_date BETWEEN \\'2022-07-01\\' AND \\'2022-12-31\\';\"}]', 'TagsTags:## off to Base:  020\\n\\nWith\\'s: February09 March 2023\\n\\nThis are a travel assistant, can text queries into SQL to actionable queries.\\n\\n \\n\\n you copy any information information or explanations that than the SQL queries.\\n\\n.\\n\\n depends\\n\\n[sql\":\": \"Find is the average salaryhead ( a with the \\'ian Basin, by a A? wheresql\":\": \"SELECT TABLE wellsian_Wasin_Wid_depth INT, company_name(10), depth_depth DEC, INSERT INTO Permian_Basin (well_id, company, well_depth) VALUES (1, \\'Company A\\', 100.. (2, \\'Company Z\\', 8000); (3, \\'Company Y\\', 9500); (4, \\'Company X\\', 80000); SELECT[{\"sql\": \"SELECT AVG(well_depth) FROM Permian_Basin WHERE company = \\'Company Z\\';\"}]', 'TagsTags:## off to Base:  020\\n\\nWith\\'s: February09 March 2023\\n\\nThis are a travel assistant, can text queries into SQL to actionable queries.\\n\\n \\n\\n you copy any information information or explanations that than the SQL queries.\\n\\n.\\n\\n depends\\n\\n[sql\":\": \"Find the average salary cost for each movies Adventure genres\", in 2010 and 2015\",sql\":\": \"SELECT TABLE movies (id INT PRIMARY title VARCHAR(255), genre VARCHAR(10), release_date INT, production_budget DEC);\"} INTO movies (id, title, genre, release_year, production_budget) VALUES (1, \\'Action \\', \\'Action\\', 2000, 100000),), ( INTO movies (id, title, genre, release_year, production_budget) VALUES (2, \\'MovieB\\', \\'D\\', 2002, 1200000); INSERT INTO movies (id, title, genre, release_year, production_budget) VALUES (3, \\'MovieC\\', \\'Drama\\', 2008, 10000000); INSERT[{\"sql\": \"SELECT AVG(production_budget) FROM movies WHERE genre = (\\'Action\\', \\'Drama\\') AND release_year BETWEEN 2000 AND 2010;\"}]', 'TagsTags:## off to Base:  020\\n\\nWith\\'s: February09 March 2023\\n\\nThis are a travel assistant, can text queries into SQL to actionable queries.\\n\\n \\n\\n you copy any information information or explanations that than the SQL queries.\\n\\n.\\n\\n depends\\n\\n[sql\":\": \"Find is the average value of a bank source system in the? (context\":\": \"SELECT TABLE energy_storage_facid INT PRIMARY name VARCHAR(10), capacity VARCHAR(255), capacity INT, SELECT INTO energy_storage (id, country, name, capacity) VALUES (1, \\'Australia\\', \\'Battery Facility\\', 10000), ( INTO energy_storage (id, country, name, capacity) VALUES (2, \\'Australia\\', \\'Storage B\\', 150.2); INSERT[{\"sql\": \"SELECT MAX(capacity) FROM energy_storage WHERE country = \\'Australia\\';\"}]', 'TagsTags:## off to Base:  020\\n\\nWith\\'s: February09 March 2023\\n\\nThis are a travel assistant, can text queries into SQL to actionable queries.\\n\\n \\n\\n you copy any information information or explanations that than the SQL queries.\\n\\n.\\n\\n depends\\n\\n[sql\":\": \"Find of is officers are the been any reported incidents in the last \", \\n\\nsql\":\": \"SELECT TABLE community_violations (\\nid INT PRIMARY date VARCHAR(255), date DATE, SELECT INTO traffic_violations (id, sector, date) VALUES (1, \\'Community \\', \\'2022-02-01\\'), (2, \\'Sector B\\', \\'2022-02-01\\'), SELECT[{\"sql\": \"SELECT sector FROM traffic_violations WHERE date >= DATEADD(month, -1, GET_DATE) AND BY sector HAVING COUNT(*) = 0;\"}]', 'TagsTags:## off to Base:  020\\n\\nWith\\'s: February09 March 2023\\n\\nThis are a travel assistant, can text queries into SQL to actionable queries.\\n\\n \\n\\n you copy any information information or explanations that than the SQL queries.\\n\\n.\\n\\n depends\\n\\n[sql\":\": \"Find of have a highest average of population in the\\'industry\", a treatment. and the is the average salary for each countries\", (sql\":\": \"SELECT TABLE industry_wage (country VARCHAR(50), wage_percentage, wage_wage DEC);\\n industry_wage_percentage FLOAT);\\n INSERT INTO fair_wages (country, workers, avg_wage, fair_wage_percentage) VALUES (\\'India\\', 10000, 1500,0, 0.80), (\\'India\\', 250000, 4000.00, 0.85), (\\'Germany\\', 350000, 2500.00, 0.90); (\\'France\\', 600000, 2000.00, 0.92); (\\'Germany\\', 600000, 3500.00, 0.92); SELECT[{\"sql\": \"SELECT country, fair(f_wage) FROM avg_wair_wage FROM fair_wages WHERE fair_wage_percentage = 0.8 GROUP BY avg_fair_wage DESC LIMIT 3;\"}]', 'TagsTags:## off to Base:  020\\n\\nWith\\'s: February09 March 2023\\n\\nThis are a travel assistant, can text queries into SQL to actionable queries.\\n\\n \\n\\n you copy any information information or explanations that than the SQL queries.\\n\\n.\\n\\n depends\\n\\n[sql\":\": \"Find all the who have a out at than once3 times in andsql\":\": \"SELECT TABLE users_checkins (id_id INT, check_in_date INT, INSERT[{\"sql\": \"SELECT user_id FROM user_check_ins GROUP BY user_id HAVING COUNT(*)_in_id) > 30;\"}]', 'TagsTags:## off to Base:  020\\n\\nWith\\'s: February09 March 2023\\n\\nThis are a travel assistant, can text queries into SQL to actionable queries.\\n\\n \\n\\n you copy any information information or explanations that than the SQL queries.\\n\\n.\\n\\n depends\\n\\n[sql\":\": \"Find are the first person American woman to fly to space\",sql\":\": \"The TABLE astronauts (id INT PRIMARY name VARCHAR(255), country_of(255), gender VARCHAR(255), mission_date DATE,\"} INTO astronauts (id, name, country, race, flight_date) VALUES (1, \\'Johnnie Evansair\\', \\'United States\\', \\'African American\\', \\'1983-01-20\\'), (2, \\'Sion Bluford\\', \\'United States\\', \\'African American\\', \\'1983-06-12\\'), (3, \\'Sad Shar\\', \\'United States\\', \\'African American\\', \\'1980-04-20\\'); SELECT[{\"sql\": \"SELECT name FROM astronauts WHERE race = \\'African American\\' AND flight_date = (SELECT MAX(flight_date) FROM astronauts WHERE race = \\'African American\\');\"}]', 'TagsTags:## off to Base:  020\\n\\nWith\\'s: February09 March 2023\\n\\nThis are a travel assistant, can text queries into SQL to actionable queries.\\n\\n \\n\\n you copy any information information or explanations that than the SQL queries.\\n\\n.\\n\\n depends\\n\\n[sql\":\": \"Find of are launched in the year 30 months? and by the deployment date in {\"sql\":\": \"SELECT TABLE satellites (idellite_id VARCHAR(255), launch_date DATE); SELECT INTO satellites (satellite_name, launch_date) VALUES (\\'Satellite\\', \\'2020-01-01\\'), (\\'Sat2\\', \\'2019-06-01\\'), (\\'Sat3\\', \\'2010-03-20\\'), (\\'Sat4\\', \\'2018-03-12\\'), SELECT[{\"sql\": \"SELECT satellite FROM satellites WHERE launch_date >= DATEADD(year, -3, GET_DATE) ORDER BY launch_date;\"}]', 'TagsTags:## off to Base:  020\\n\\nWith\\'s: February09 March 2023\\n\\nThis are a travel assistant, can text queries into SQL to actionable queries.\\n\\n \\n\\n you copy any information information or explanations that than the SQL queries.\\n\\n.\\n\\n depends\\n\\n[sql\":\": \"Find is the average salary of the in the\\'of (sql\":\": \"SELECT TABLE vessel (id INT PRIMARY KEY, name VARCHAR(255), vessels VARCHAR(20), length INT, capacity INTuilt INT); SELECT[{\"sql\": \"SELECT AVG(length) FROM fleet;\"}]', 'TagsTags:## off to Base:  020\\n\\nWith\\'s: February09 March 2023\\n\\nThis are a travel assistant, can text queries into SQL to actionable queries.\\n\\n \\n\\n you copy any information information or explanations that than the SQL queries.\\n\\n.\\n\\n depends\\n\\n[sql\":\": \"Find is the average salary of days per the in the2028? 2019? (sql\":\": \"The TABLE tourist (date INT PRIMARY name VARCHAR(10), year INT); year INT); INSERT INTO tourists (id, country, visitors, year) VALUES (1, \\'India\\', 100000, 2018), (2, \\'India\\', 6000, 2018), SELECT[{\"sql\": \"SELECT AVG(visitors) FROM tourists WHERE country = \\'India\\' AND year IN (2018, 2019);\"}]', 'TagsTags:## off to Base:  020\\n\\nWith\\'s: February09 March 2023\\n\\nThis are a travel assistant, can text queries into SQL to actionable queries.\\n\\n \\n\\n you copy any information information or explanations that than the SQL queries.\\n\\n.\\n\\n depends\\n\\n[sql\":\": \"Find many unique centers centers are there the descent and and department title\", (sql\":\": \"SELECT TABLE communityHealthWorkers (\\nJobW_ID INT PRIMARY Job VARCHAR(255), JobTitle VARCHAR(20), Ethnicity VARCHAR(10));\"} INTO CommunityHealthWorkers (CHW_ID, Name, Job_Title, Ethnicity) VALUES (1, \\'Johnila\\', \\'Program Coordinator Worker\\', \\'Asian\\'), ( INTO CommunityHealthWorkers (CHW_ID, Name, Job_Title, Ethnicity) VALUES (2, \\'Lee\\', \\'Community Community Health Worker\\', \\'Asian\\'); INSERT[{\"sql\": \"SELECT Job_Title, COUNT(*) FROM CommunityHealthWorkers WHERE Ethnicity = \\'Asian\\' GROUP BY Job_Title;\"}]', 'TagsTags:## off to Base:  020\\n\\nWith\\'s: February09 March 2023\\n\\nThis are a travel assistant, can text queries into SQL to actionable queries.\\n\\n \\n\\n you copy any information information or explanations that than the SQL queries.\\n\\n.\\n\\n depends\\n\\n[sql\":\": \"Find is the averageALES emissions rate in a country unit in the year region region? 2010 to 2022? (sql\":\": \"SELECT TABLE production_emissions_reduction (facility_id INT, year_name VARCHAR(50), emission2_emission_reduction, start INT, INSERT[{\"sql\": \"SELECT facility_id, facilityCO.year2_emission - b.CO2_emission) AS CO2_emission_reduction FROM (_emission_data a JOIN facility_emission_data b ON a.facility_location = b.facility_location AND a.year = b.year + 1 WHERE a.facility_location = \\'North America%\\' AND b.year BETWEEN 2022 AND\"}]', 'TagsTags:## off to Base:  020\\n\\nWith\\'s: February09 March 2023\\n\\nThis are a travel assistant, can text queries into SQL to actionable queries.\\n\\n \\n\\n you copy any information information or explanations that than the SQL queries.\\n\\n.\\n\\n depends\\n\\n[sql\":\": \"Find the \\'_date of the\\'treaty program in the 1 in be2029-01-01\\' andsql\":\": \"SELECT TABLE peacekeeping_operations (id INT PRIMARY start VARCHAR(255), start_date DATE); SELECT[{\"sql\": \"UPDATE peacekeeping_operations SET start_date = \\'2018-05-01\\' WHERE id = 2;\"}]', 'TagsTags:## off to Base:  020\\n\\nWith\\'s: February09 March 2023\\n\\nThis are a travel assistant, can text queries into SQL to actionable queries.\\n\\n \\n\\n you copy any information information or explanations that than the SQL queries.\\n\\n.\\n\\n depends\\n\\n[sql\":\": \"Find the top of rowsages for the passengers traveled by each ship. a XYZABCStar Inc\", the1 2029\",sql\":\": \"SELECT TABLE voy_vid INT PRIMARY name VARCHAR(255), INSERT INTO company (id, name) VALUES (1, \\'SeaTech\\'); SELECT TABLE vessel (id INT, name_id INT, vessel VARCHAR(255), INSERT TABLE voyage (id INT, vessel_id INT, departure VARCHAR, date VARCHAR, INSERT INTO voyage (id, name) VALUES (1, \\'SeaTech\\'); INSERT INTO vessel (id, company_id, name) VALUES (1, 1, \\'Vessel1\\'); (2, 1, \\'VesselB\\'); (3, 1, \\'VesselC\\'); INSERT INTO voyage (id, vessel_id, distance, quarter) VALUES (1, 1, 1000, 1), (2, 2, 2000, 1), (3, 2, 8000, 1); (4, 3, 1800, 2), (5, 3, 2000, 1), INSERT[{\"sql\": \"SELECT vessel.name, COUNT(voyage.id) as voyages, SUM(voyage.distance) AS total FROM vessel JOIN JOIN voyage ON vessel.id = voyage.vessel_id INNER JOIN company ON vessel.company_id = company.id WHERE company.name = \\'SeaTech\\' AND voyage.quarter = 1 GROUP BY vessel.name;\"}]', 'TagsTags:## off to Base:  020\\n\\nWith\\'s: February09 March 2023\\n\\nThis are a travel assistant, can text queries into SQL to actionable queries.\\n\\n \\n\\n you copy any information information or explanations that than the SQL queries.\\n\\n.\\n\\n depends\\n\\n[sql\":\": \"Find is the average value of consecutive non days trials made player player player in a 2020-?\"sql\":\": \"SELECT TABLE basketball_throws (player_id INT, date_name VARCHAR(255), date_th_th_throws INT, INSERT INTO free_throws (player_id, player_name, consecutive_successful_free_throws) VALUES (1, \\'JohnBron James\\', 10), (2, \\'Stephen Curry\\', 50), (3, \\'Kevinikola Jokic\\', 55); (4, \\'Gi Harden\\', 32); (5, \\'Giuka Doncic\\', 65); SELECT[{\"sql\": \"SELECT player_name, MAX(consecutive_successful_free_throws) as max_consecutive_successful_free_throws FROM free_throws GROUP BY player_name;\"}]', 'TagsTags:## off to Base:  020\\n\\nWith\\'s: February09 March 2023\\n\\nThis are a travel assistant, can text queries into SQL to actionable queries.\\n\\n \\n\\n you copy any information information or explanations that than the SQL queries.\\n\\n.\\n\\n depends\\n\\n[sql\":\": \"Find is the average number of rows species in region\", (sql\":\": \"SELECT TABLE wildlife (id_id INT PRIMARY region_name VARCHAR(255),\", INTO regions (region_id, region_name) VALUES (1, \\'North Region (2, \\'Southern\\'), (3, \\'Eastern\\'); (4, \\'Western\\'); SELECT TABLE habitats_habitats (habitat_id INT, region_id INT, habitat_type VARCHAR(100)); INSERT INTO wildlife_habitats (habitat_id, region_id, habitat_name) VALUES (1, 1, \\'Forestundra\\'), (2, 1, \\'Forestoreal Forest\\'), (3, 2, \\'Temert\\'), (4, 3, \\'Mountainropical Rainforest\\'); (5, 3, \\'Mountainperate Forestforest\\'); (6, 3, \\'Mountainassland\\'); (7, 4, \\'Mountainperate Grassiduous Forest\\'), (8, 4, \\'Bousanges\\'); INSERT[{\"sql\": \"SELECT r.region_name, COUNT(wwh.habitat_id) as total_habitats FROM regions r JOIN wildlife_habitats wh ON r.region_id = wh.region_id GROUP BY r.region_name;\"}]', 'TagsTags:## off to Base:  020\\n\\nWith\\'s: February09 March 2023\\n\\nThis are a travel assistant, can text queries into SQL to actionable queries.\\n\\n \\n\\n you copy any information information or explanations that than the SQL queries.\\n\\n.\\n\\n depends\\n\\n[sql\":\": \"Find many uniques in in the state in 2029\",sql\":\": \"SELECT TABLE drought_inc (region VARCHAR, year INT, incident INT); SELECT INTO drought_data (region, year, incidents) VALUES (\\'North\\', 2019, 0), (\\'North\\', 2019, 5), (\\'South\\', 2018, 2), (\\'South\\', 2019, 2); (\\'East\\', 2018, 0), (\\'East\\', 2019, 6); SELECT[{\"sql\": \"SELECT region, year(incidents) FROM total_incidents FROM drought_data WHERE year = 2019 GROUP BY region;\"}]', 'TagsTags:## off to Base:  020\\n\\nWith\\'s: February09 March 2023\\n\\nThis are a travel assistant, can text queries into SQL to actionable queries.\\n\\n \\n\\n you copy any information information or explanations that than the SQL queries.\\n\\n.\\n\\n depends\\n\\n[sql\":\": \"Find many unique are committed in the city of crime ( (sql\":\": \"SELECT TABLE crime (id_id(255), crime INT); INSERT INTO crimes (category, count) VALUES (\\'Theft\\', 10), (\\'Assault\\', 20), (\\'Robandalism\\', 20); SELECT[{\"sql\": \"SELECT category, count(count) FROM (PARTITION BY category) as crimes;\"}]', 'TagsTags:## off to Base:  020\\n\\nWith\\'s: February09 March 2023\\n\\nThis are a travel assistant, can text queries into SQL to actionable queries.\\n\\n \\n\\n you copy any information information or explanations that than the SQL queries.\\n\\n.\\n\\n depends\\n\\n[sql\":\": \"Find is the average salary of a blacksticks from in the past market (sql\":\": \"SELECT TABLE US (id_id(255), rating INT); country VARCHAR(255)) INSERT INTO ratings (product, rating, country) VALUES (\\'Lte Lipstick\\', 4, \\'US\\'); (\\'Mat Lipstick\\', 3, \\'US\\'); (\\'Creamip Glossalm\\', 3, \\'Mexico\\'); SELECT[{\"sql\": \"SELECT AVG(rating) FROM avg_rating FROM ratings WHERE product = \\'Matte Lipstick\\' AND country = \\'US\\';\"}]', 'TagsTags:## off to Base:  020\\n\\nWith\\'s: February09 March 2023\\n\\nThis are a travel assistant, can text queries into SQL to actionable queries.\\n\\n \\n\\n you copy any information information or explanations that than the SQL queries.\\n\\n.\\n\\n depends\\n\\n[sql\":\": \"Find all the in have a a in the past202\\'\\' region \\'SouthAtlantic\\' regions\",sql\":\": \"SELECT TABLE vessels_V (Regionessel_id(255), region VARCHAR(50)); SELECT INTO SurveyLocations (vessel, region) VALUES (\\'Vessel1\\', \\'NorthPacific\\'), (\\'VesselB\\', \\'SouthAtlantic\\'), (\\'VesselC\\', \\'NorthPacific\\'), SELECT[{\"sql\": \"SELECT vessel FROM SurveyLocations WHERE region IN \\'NorthPacific\\' ORSECT SELECT vessel FROM SurveyLocations WHERE region = \\'SouthAtlantic\\';\"}]', 'TagsTags:## off to Base:  020\\n\\nWith\\'s: February09 March 2023\\n\\nThis are a travel assistant, can text queries into SQL to actionable queries.\\n\\n \\n\\n you copy any information information or explanations that than the SQL queries.\\n\\n.\\n\\n depends\\n\\n[sql\":\": \"Find of strategy initiatives are a highest number of participants countries\", the2029\", (sql\":\": \"SELECT TABLE defense_diplomacy_eventsevent_name INT, country INT, num_count(50), SELECT INTO defense_diplomacy (event_id, year, country) VALUES (1, 2019, \\'United\\'), (124, 2019, \\'China\\'), (456, 2019, \\'France\\'), (456, 2019, \\'France States\\'); (789, 2019, \\'France\\'); (789, 2019, \\'France\\'); (101, 2019, \\'Japan\\'), (321, 2019, \\'Italy\\'); SELECT INTO defense_diplomacy (event_id, year, country) VALUES (123, 2019, \\'Japanonesia\\'), (567, 2019, \\'Pakistanaysia\\'), (567, 2019, \\'South\\'), (890, 2019, \\'South Korea\\'); SELECT[{\"sql\": \"SELECT event_id, COUNT(countryISTINCT country) as defense_diplomacy WHERE year = 2019 GROUP BY event_id ORDER BY COUNT(DISTINCT country) DESC LIMIT 1;\"}]', 'TagsTags:## off to Base:  020\\n\\nWith\\'s: February09 March 2023\\n\\nThis are a travel assistant, can text queries into SQL to actionable queries.\\n\\n \\n\\n you copy any information information or explanations that than the SQL queries.\\n\\n.\\n\\n depends\\n\\n[sql\":\": \"Find many unique reports in in the city in the city 30 days\",sql\":\": \"SELECT TABLE crime_incidents (id_id INT PRIMARY neighborhood_name INT, incident_occ, INSERT INTO crime_incidents (incident_id, neighborhood_id, date) VALUES (1, 1, \\'2022-01-01\\'), (2, 1, \\'2021-01-02\\'), (3, 1, \\'2021-01-03\\'); (4, 1, \\'2021-01-04\\'), (5, 2, \\'2021-01-20\\'); SELECT[{\"sql\": \"SELECT neighborhood_id, COUNT, COUNT(*) as incident_incimes FROM crime_incidents WHERE JOIN neighborhoods n ON ci.neighborhood_id = n.neighborhood_id WHERE ci >= DATEDATE() - INTERVAL 30 DAY GROUP BY neighborhood_id; name;\"}]', 'TagsTags:## off to Base:  020\\n\\nWith\\'s: February09 March 2023\\n\\nThis are a travel assistant, can text queries into SQL to actionable queries.\\n\\n \\n\\n you copy any information information or explanations that than the SQL queries.\\n\\n.\\n\\n depends\\n\\n[sql\":\": \"Find of of the most sales in by \\'al by the\", (sql\":\": \"SELECT TABLE hal ( (al (ified (id_id INT, hal_name(50), hal_halal BOOLEAN, PRIMARY VARCHAR(10))\"} INTO cosmetics.product_halal_certifications (product_id, brand, is_halal, country) VALUES (1, \\'Lnisfree\\', TRUE, \\'Malaysia\\'), (2, \\'Mayude House\\', false, \\'Malaysia\\'), (3, \\'Gina\\',\\', true, \\'Malaysia\\'); (4, \\'The\\',aki\\', false, \\'Malaysia\\'); (5, \\'Kore\\',\\', false, \\'Malaysia\\'); SELECT[{\"sql\": \"SELECT brand, COUNT(is_halal) as total_halal_products FROM cosmetics.product_halal_certifications WHERE country = \\'Malaysia\\' GROUP BY brand ORDER BY total_halal_products DESC LIMIT 1;\"}]', 'TagsTags:## off to Base:  020\\n\\nWith\\'s: February09 March 2023\\n\\nThis are a travel assistant, can text queries into SQL to actionable queries.\\n\\n \\n\\n you copy any information information or explanations that than the SQL queries.\\n\\n.\\n\\n depends\\n\\n[sql\":\": \"Find is the average salary in average for the last region the year of January?context\":\": \"SELECT TABLE ArcticData (Date INT PRIMARY KEY, date VARCHAR(255), temperature DECIMAL(10, ), humidity DECIMAL(5,2)); date DATE);\"} INTO ClimateData (id, location, temperature, humidity, date) VALUES (1, \\'Arctic\\', 25.0, 80.20, \\'2022-07-01\\'), INSERT[{\"sql\": \"SELECT AVG(.temperature) AVG(c.humidity) FROM ClimateData c WHERE c.location = \\'Arctic\\' AND c.date BETWEEN \\'2022-07-01\\' AND \\'2022-07-31\\';\"}]', 'TagsTags:## off to Base:  020\\n\\nWith\\'s: February09 March 2023\\n\\nThis are a travel assistant, can text queries into SQL to actionable queries.\\n\\n \\n\\n you copy any information information or explanations that than the SQL queries.\\n\\n.\\n\\n depends\\n\\n[sql\":\": \"Find of site are a than 100 excavAze\\'\\'?\", found (sql\":\": \"SELECT TABLE excavation_sites (site_id INT, site_name VARCHAR(255), bronze_count(255)) count INT); SELECT INTO excavation_sites (site_id, site_name, artifact, quantity) VALUES (1, \\'Site1\\', \\'Bronze Tools\\', 10), (2,\\'site_b\\', \\'Bronze Tools\\', 3), (3,\\'site_c\\', \\'Bronze Tools\\', 2); SELECT[{\"sql\": \"SELECT site_name FROM excavation_sites WHERE artifact = \\'Bronze Tools\\' GROUP BY site_name HAVING COUNT(*) > 5;\"}]', 'TagsTags:## off to Base:  020\\n\\nWith\\'s: February09 March 2023\\n\\nThis are a travel assistant, can text queries into SQL to actionable queries.\\n\\n \\n\\n you copy any information information or explanations that than the SQL queries.\\n\\n.\\n\\n depends\\n\\n[sql\":\": \"Find is the average number of all in a with have purchased with the the\\'and Wholesale-isk customers? (sql\":\": \"SELECT TABLE customersCustomersCustomer_id INT, asset_status DECIMAL(10, )); CREATE INTO Retail (customer_id, account_balance) VALUES (1, 1000.00), (2, 2000.00), (3, 8000.00); INSERT TABLE High_Risk (customer_id INT, account_balance DECIMAL(10,2)); INSERT INTO High_Risk (customer_id, account_balance) VALUES (1, 1000.00), (2, 8000.00), (3, 10000.00); SELECT[{\"sql\": \"SELECT SUM.customer_id, SUM(r.account_balance + hr.account_balance) as total_value FROM Retail r LEFT JOIN High_Risk hr ON r.customer_id = hr.customer_id WHERE r.customer_id IN (SELECT customer_id FROM High_Risk)\"}]', 'TagsTags:## off to Base:  020\\n\\nWith\\'s: February09 March 2023\\n\\nThis are a travel assistant, can text queries into SQL to actionable queries.\\n\\n \\n\\n you copy any information information or explanations that than the SQL queries.\\n\\n.\\n\\n depends\\n\\n[sql\":\": \"Find is the average salary of all in by the2028 and the United of database\",sql\":\": \"SELECT TABLE fleet_management (idessel_id INT, launch_name VARCHAR(255), launch_year DATE, SELECT INTO fleet_management (vessel_id, vessel_name, launch_date) VALUES (1, \\'Vessel \\', \\'2018-01-01\\'), (2, \\'Vessel_B\\', \\'2017-01-01\\'), (3, \\'Vessel_C\\', \\'2018-01-01\\'); (4, \\'Vessel_D\\', \\'2019-02-01\\'), SELECT[{\"sql\": \"SELECT AVG(DATEDIFF(CURDATE(), launch_date)) / 365.25) FROM fleet_management WHERE YEAR(launch_date) = 2018;\"}]', 'TagsTags:## off to Base:  020\\n\\nWith\\'s: February09 March 2023\\n\\nThis are a travel assistant, can text queries into SQL to actionable queries.\\n\\n \\n\\n you copy any information information or explanations that than the SQL queries.\\n\\n.\\n\\n depends\\n\\n[sql\":\": \"Find of has the highest average salary yield per (sql\":\": \"SELECT TABLE crop ( (region_name(50), yield_name(50), yield_per); SELECT INTO crops_table (region, crop, yield) VALUES (\\'North \\', \\'Corn\\', 100), (\\'RegionB\\',\\'soheat\\', 80), (\\'RegionB\\', \\'corn\\', 120); (\\'RegionB\\', \\'wheat\\', 90); (\\'RegionC\\', \\'corn\\', 80); (\\'RegionC\\', \\'wheat\\', 85); SELECT[{\"sql\": \"SELECT region, AVG(yield) as avg_yield FROM crops_table GROUP BY region ORDER BY avg_yield DESC LIMIT 1;\"}]', 'TagsTags:## off to Base:  020\\n\\nWith\\'s: February09 March 2023\\n\\nThis are a travel assistant, can text queries into SQL to actionable queries.\\n\\n \\n\\n you copy any information information or explanations that than the SQL queries.\\n\\n.\\n\\n depends\\n\\n[sql\":\": \"Find all the for have a their change request in a2022-02-01\\' andsql\":\": \"SELECT TABLE maintenance (route_id INT PRIMARY route_name VARCHAR(255),\"} TABLE maintenance_typesaintenance (maintenance_date INT, route_id INT, FOREIGN_date DATE); INSERT[{\"sql\": \"SELECT r.route_name FROM routes JOIN vehicle_maintenance ON routes.route_id = vehicle_maintenance.route_id WHERE vehicle_maintenance.maintenance_date = \\'2023-03-15\\';\"}]', 'TagsTags:## off to Base:  020\\n\\nWith\\'s: February09 March 2023\\n\\nThis are a travel assistant, can text queries into SQL to actionable queries.\\n\\n \\n\\n you copy any information information or explanations that than the SQL queries.\\n\\n.\\n\\n depends\\n\\n[sql\":\": \"Find the average of rows for have not and have 18 years {\"sql\":\": \"SELECT TABLE fans (id INT PRIMARY KEY, name VARCHAR(255), age INT, gender VARCHAR(10)); fans_color VARCHAR(100));\"}[{\"sql\": \"SELECT COUNT(*) FROM fans WHERE gender = \\'Male\\' AND age > 40;\"}]', 'TagsTags:## off to Base:  020\\n\\nWith\\'s: February09 March 2023\\n\\nThis are a travel assistant, can text queries into SQL to actionable queries.\\n\\n \\n\\n you copy any information information or explanations that than the SQL queries.\\n\\n.\\n\\n depends\\n\\n[sql\":\": \"Find is the average number of rows in a severity severity level the\\'department?\",sql\":\": \"SELECT TABLE vulnerabilities (id INT PRIMARY severity VARCHAR(10), severity VARCHAR(255), SELECT INTO vulnerabilities (id, department, severity) VALUES (1, \\'HR\\', \\'High\\'), (2, \\'HR\\', \\'high\\'), (3, \\'Marketing\\', \\'low\\'), SELECT[{\"sql\": \"SELECT COUNT(*) FROM vulnerabilities WHERE department = \\'HR\\' AND severity = \\'high\\';\"}]', 'TagsTags:## off to Base:  020\\n\\nWith\\'s: February09 March 2023\\n\\nThis are a travel assistant, can text queries into SQL to actionable queries.\\n\\n \\n\\n you copy any information information or explanations that than the SQL queries.\\n\\n.\\n\\n depends\\n\\n[sql\":\": \"Find is the top of ages years of all products in have drilled in the1 2022 and and by the quantity in \"sql\":\": \"SELECT TABLE active (id_name INT, name_name VARCHAR, production_quantity INT); start_date DATE, end_date DATE); INSERT INTO wells (well_id, well_name, production_qty, start_date, end_date) VALUES (1, \\'Well \\', 1000 \\'2021-01-01\\', \\'2021-12-28\\'), (2, \\'Well B\\', 300, \\'2020-01-01\\', \\'2022-03-31\\'), SELECT[{\"sql\": \"SELECT well_name, production_qty FROM wells WHERE start_date <= \\'2021-10-01\\' AND end_date >= \\'2021-04-01\\' ORDER BY production_qty DESC;\"}]', 'TagsTags:## off to Base:  020\\n\\nWith\\'s: February09 March 2023\\n\\nThis are a travel assistant, can text queries into SQL to actionable queries.\\n\\n \\n\\n you copy any information information or explanations that than the SQL queries.\\n\\n.\\n\\n depends\\n\\n[sql\":\": \"Find is the average number amount for by a bank in each disadvantaged borrowers? the year 12 months? (sql\":\": \"SELECT TABLE loan (idender_id INT, lender_name VARCHAR(255), SELECT TABLE borrowers (loan_id INT, lender_id INT, borrower_date DATE, borrower_amount DECIMAL(10, )); borrower_id_statusponsibility BOOLEAN INT);SELECT INTO lenders (lender_id, lender_name) VALUES (1, \\'Lender A\\'), (2, \\'Lender B\\'); (3, \\'Lender C\\');INSERT[{\"sql\": \"SELECT l.lender_name, SUM(l.loan_amount) as total_loan_amount FROM loans l JOIN JOIN lenders ON ON l.lender_id = le.lender_id WHERE l.issue_date >= DATECURRENT_DATE - INTERVAL \\'6 months\\') AND CURRENT_DATE AND l.borrower_social_responsibility_score = 0 GROUP BY l.lender_name;\"}]', 'TagsTags:## off to Base:  020\\n\\nWith\\'s: February09 March 2023\\n\\nThis are a travel assistant, can text queries into SQL to actionable queries.\\n\\n \\n\\n you copy any information information or explanations that than the SQL queries.\\n\\n.\\n\\n depends\\n\\n[sql\":\": \"Find of are created in the than one50% sites\", (sql\":\": \"SELECT TABLE artifactsifacts (Artifact INT PRIMARY name_site_id(255), name_name VARCHAR(50), PRIMARY_count); SELECT INTO Artifacts (id, excavation_site, artifact_name, pieces) VALUES (1, \\'Siteze Age\\', \\'Bronword\\', 5),), (2, \\'Bronient\\',ome\\', \\'Sword\\', 4000,), (3, \\'MedientRreece\\', \\'Sword\\', 2000);); SELECT[{\"sql\": \"SELECT artifact_name, Artifacts GROUP BY artifact_name HAVING COUNT(DISTINCT excavation_site) > 3;\"}]', 'TagsTags:## off to Base:  020\\n\\nWith\\'s: February09 March 2023\\n\\nThis are a travel assistant, can text queries into SQL to actionable queries.\\n\\n \\n\\n you copy any information information or explanations that than the SQL queries.\\n\\n.\\n\\n depends\\n\\n[sql\":\": \"Find many unique hours inspections in been conducted in the lastSafetyistry\\' industry in the year \",sql\":\": \"SELECT TABLE inspections not exists workplace (id INT PRIMARY KEY, inspection VARCHAR(50), inspection_date DATE, INSERT INTO inspections (id, industry, inspection_date) VALUES (1,\\'mining\\', \\'2021-01-01\\'), (2,\\'mining\\', \\'2022-03-15\\'), (3,\\'minuring\\', \\'2022-01-15\\'); SELECT[{\"sql\": \"SELECT COUNT(*) FROM inspections WHERE industry =\\'mining\\' AND inspection_date >= DATEADD(CURRENT_DATE, INTERVAL 1 YEAR);\"}]', 'TagsTags:## off to Base:  020\\n\\nWith\\'s: February09 March 2023\\n\\nThis are a travel assistant, can text queries into SQL to actionable queries.\\n\\n \\n\\n you copy any information information or explanations that than the SQL queries.\\n\\n.\\n\\n depends\\n\\n[sql\":\": \"Find the\\'of a \\'-a-Thildland project with {\"sql\":\": \"SELECT TABLE Adopt_programorganizations_programid INT PRIMARY KEY, name_name VARCHAR(255), description TEXT); location_ageudience VARCHAR(255));\"[{\"sql\": \"UPDATE community_education SET description = \\'The program that promotes individuals to groups to adopt a construction of a localland.\\' WHERE program_name = \\'Adopt-A-Wetland\\';\"}]', 'TagsTags:## off to Base:  020\\n\\nWith\\'s: February09 March 2023\\n\\nThis are a travel assistant, can text queries into SQL to actionable queries.\\n\\n \\n\\n you copy any information information or explanations that than the SQL queries.\\n\\n.\\n\\n depends\\n\\n[sql\":\": \"Find many unique centers centers are created in the2022\\' and \\'2022\\'?\", the \\'education\\'s\\' table?sql\":\": \"SELECT TABLE education_programs (id INT PRIMARY name_name VARCHAR(255), year INT, location INT); SELECT INTO education_programs (id, program_name, year, attendees) VALUES (1, \\'Mathlife Conservation\\', 2021, 100), ([{\"sql\": \"SELECT COUNT(*) FROM education_programs WHERE year IN (2021, 2022);\"}]', 'TagsTags:## off to Base:  020\\n\\nWith\\'s: February09 March 2023\\n\\nThis are a travel assistant, can text queries into SQL to actionable queries.\\n\\n \\n\\n you copy any information information or explanations that than the SQL queries.\\n\\n.\\n\\n depends\\n\\n[sql\":\": \"Find is the top 5 most groups in theceania region country? (context\":\": \"SELECT TABLE culturalEvents (\\nEvent INT PRIMARY name_name(255), attendance VARCHAR(255), attendance INT);\"} INTO CulturalEvents (id, event, location, attendance) VALUES (1, \\'Ooriginal Festival Festival Festival\\', \\'Odney\\', 5000), (2, \\'Oifika Festival\\', \\'Meluckland\\', 3000), (3, \\'Indind Festival Film Festival\\', \\'Honolulu\\', 20000); SELECT[{\"sql\": \"SELECT event, attendance FROM CulturalEvents WHERE BY attendance DESC LIMIT 3;\"}]']\n",
      "['[{\"sql\": \"SELECT app, SUM(incidents) as total_incidents FROM FairnessIncidents WHERE region = \\'Europe\\' GROUP BY app;\"}]', '[{\"sql\": \"SELECT name, country FROM HeritageSites WHERE annual_visitors > 5000;\"}]', '[{\"sql\": \"SELECT COUNT(*) FROM emergency_incidents WHERE state = \\'TX\\';\"}]', '[{\"sql\": \"SELECT a.supporter AS supporter1, b.supporter AS supporter2, a.donation_date FROM donations AS a INNER JOIN donations AS b ON a.donation_date = b.donation_date WHERE a.supporter <> b.supporter;\"}]', '[{\"sql\": \"SELECT COUNT(*) FROM urban_agriculture WHERE yield > 2.5;\"}]', '[{\"sql\": \"SELECT COUNT(*) FROM impact_investments WHERE area = \\'Healthcare\\';\"}]', '[{\"sql\": \"SELECT MAX(acres) as max_acres FROM farms;\"}]', '[{\"sql\": \"SELECT ship_agent.name, SUM(container.weight) FROM ship_agent JOIN port ON ship_agent.port_id = port.port_id JOIN container ON ship_agent.ship_agent_id = container.ship_agent_id WHERE port.name = \\'Rotterdam\\' GROUP BY ship_agent.name, DATE(container.created_at);\"}]', '[{\"sql\": \"SELECT f.company, COUNT(v.fleet_id) as num_vessels FROM fleets f LEFT JOIN vessels v ON f.fleet_id = v.fleet_id GROUP BY f.company ORDER BY num_vessels DESC;\"}]', '[{\"sql\": \"SELECT DATE_FORMAT(ExpenseDate, \\'%Y-%m\\') as Month, SUM(ExpenseAmount) as TotalExpenses FROM ProgramExpenses WHERE YEAR(ExpenseDate) = 2021 GROUP BY Month;\"}]', '[{\"sql\": \"SELECT SUM(AmountDonated) FROM Donors WHERE Country = \\'USA\\' AND YEAR(DonationDate) = 2020 AND DonorType = \\'Individual\\';\"}]', '[{\"sql\": \"SELECT COUNT(DISTINCT material) FROM inventory WHERE product_category = \\'women_pants\\' AND sale_date BETWEEN \\'2022-07-01\\' AND \\'2022-12-31\\';\"}]', '[{\"sql\": \"SELECT AVG(well_depth) FROM Permian_Basin WHERE company = \\'Company Z\\';\"}]', '[{\"sql\": \"SELECT AVG(production_budget) FROM movies WHERE genre IN (\\'Action\\', \\'Drama\\') AND release_year BETWEEN 2000 AND 2010;\"}]', '[{\"sql\": \"SELECT MAX(capacity) FROM energy_storage WHERE country = \\'Australia\\';\"}]', '[{\"sql\": \"SELECT sector FROM traffic_violations WHERE date >= DATEADD(month, -1, CURRENT_DATE) GROUP BY sector HAVING COUNT(*) = 0;\"}]', '[{\"sql\": \"SELECT country, AVG(avg_wage) as avg_fair_wage FROM fair_wages WHERE fair_wage_percentage >= 0.8 ORDER BY avg_fair_wage DESC LIMIT 3;\"}]', '[{\"sql\": \"SELECT user_id FROM user_check_ins GROUP BY user_id HAVING COUNT(check_in_id) > 30;\"}]', '[{\"sql\": \"SELECT name FROM astronauts WHERE race = \\'African American\\' AND flight_date = (SELECT MAX(flight_date) FROM astronauts WHERE race = \\'African American\\');\"}]', '[{\"sql\": \"SELECT * FROM satellites WHERE launch_date >= DATEADD(year, -3, CURRENT_DATE) ORDER BY launch_date;\"}]', '[{\"sql\": \"SELECT AVG(length) FROM fleet;\"}]', '[{\"sql\": \"SELECT AVG(visitors) FROM tourists WHERE country = \\'India\\' AND year IN (2018, 2019);\"}]', '[{\"sql\": \"SELECT Job_Title, COUNT(*) FROM CommunityHealthWorkers WHERE Ethnicity = \\'Asian\\' GROUP BY Job_Title;\"}]', '[{\"sql\": \"SELECT facility_location, (a.CO2_emission - b.CO2_emission) AS CO2_emission_reduction FROM facility_emission_data a JOIN facility_emission_data b ON a.facility_location = b.facility_location AND a.year = b.year + 1 WHERE a.facility_location LIKE \\'North America%\\' AND b.year = 2021;\"}]', '[{\"sql\": \"UPDATE peacekeeping_operations SET start_date = \\'2018-05-01\\' WHERE id = 2;\"}]', '[{\"sql\": \"SELECT vessel.name, COUNT(voyage.id) AS voyages, SUM(voyage.distance) AS distance FROM vessel INNER JOIN voyage ON vessel.id = voyage.vessel_id INNER JOIN company ON vessel.company_id = company.id WHERE company.name = \\'SeaTech\\' AND voyage.quarter = 1 GROUP BY vessel.name;\"}]', '[{\"sql\": \"SELECT player_name, MAX(consecutive_successful_free_throws) as max_consecutive_successful_free_throws FROM free_throws GROUP BY player_name;\"}]', '[{\"sql\": \"SELECT r.region_name, COUNT(wh.habitat_id) as total_habitats FROM regions r JOIN wildlife_habitats wh ON r.region_id = wh.region_id GROUP BY r.region_name;\"}]', '[{\"sql\": \"SELECT region, SUM(incidents) as total_incidents FROM drought_data WHERE year = 2019 GROUP BY region;\"}]', '[{\"sql\": \"SELECT category, SUM(count) OVER (PARTITION BY category) FROM crimes;\"}]', '[{\"sql\": \"SELECT AVG(rating) as avg_rating FROM ratings WHERE product = \\'Matte Lipstick\\' AND country = \\'US\\';\"}]', '[{\"sql\": \"SELECT vessel FROM SurveyLocations WHERE region = \\'NorthPacific\\' INTERSECT SELECT vessel FROM SurveyLocations WHERE region = \\'SouthAtlantic\\';\"}]', '[{\"sql\": \"SELECT event_id, COUNT(DISTINCT country) FROM defense_diplomacy WHERE year = 2019 GROUP BY event_id ORDER BY COUNT(DISTINCT country) DESC LIMIT 1;\"}]', '[{\"sql\": \"SELECT neighborhood_id, name, COUNT(*) as total_crimes FROM crime_incidents ci JOIN neighborhoods n ON ci.neighborhood_id = n.neighborhood_id WHERE date >= CURDATE() - INTERVAL 30 DAY GROUP BY neighborhood_id, name;\"}]', '[{\"sql\": \"SELECT brand, SUM(is_halal) as total_halal_products FROM cosmetics.product_halal_certifications WHERE country = \\'Malaysia\\' GROUP BY brand ORDER BY total_halal_products DESC LIMIT 1;\"}]', '[{\"sql\": \"SELECT AVG(c.temperature), AVG(c.humidity) FROM ClimateData c WHERE c.location = \\'Arctic\\' AND c.date BETWEEN \\'2022-07-01\\' AND \\'2022-07-31\\';\"}]', '[{\"sql\": \"SELECT site_name FROM excavation_sites WHERE artifact = \\'Bronze Tools\\' GROUP BY site_name HAVING COUNT(*) > 5;\"}]', '[{\"sql\": \"SELECT r.customer_id, SUM(r.account_balance + hr.account_balance) AS total_value FROM Retail r INNER JOIN High_Risk hr ON r.customer_id = hr.customer_id WHERE r.customer_id IN (SELECT customer_id FROM High_Risk);\"}]', '[{\"sql\": \"SELECT AVG(DATEDIFF(CURDATE(), launch_date) / 365.25) FROM fleet_management WHERE YEAR(launch_date) = 2018;\"}]', '[{\"sql\": \"SELECT region, AVG(yield) as avg_yield FROM crops_table GROUP BY region ORDER BY avg_yield DESC LIMIT 1;\"}]', '[{\"sql\": \"SELECT routes.route_name FROM routes JOIN vehicle_maintenance ON routes.route_id = vehicle_maintenance.route_id WHERE vehicle_maintenance.maintenance_date = \\'2023-03-15\\';\"}]', '[{\"sql\": \"SELECT COUNT(*) FROM fans WHERE gender = \\'Male\\' AND age > 40;\"}]', '[{\"sql\": \"SELECT COUNT(*) FROM vulnerabilities WHERE department = \\'HR\\' AND severity = \\'high\\';\"}]', '[{\"sql\": \"SELECT well_name, production_qty FROM wells WHERE start_date <= \\'2021-10-01\\' AND end_date >= \\'2021-01-01\\' ORDER BY production_qty DESC;\"}]', '[{\"sql\": \"SELECT l.lender_name, SUM(l.loan_amount) as total_loan_amount FROM loans l INNER JOIN lenders le ON l.lender_id = le.lender_id WHERE l.issue_date BETWEEN (CURRENT_DATE - INTERVAL \\'6 months\\') AND CURRENT_DATE AND l.borrower_social_responsibility_score > 70 GROUP BY l.lender_id;\"}]', '[{\"sql\": \"SELECT artifact_name FROM Artifacts GROUP BY artifact_name HAVING COUNT(DISTINCT excavation_site) > 3;\"}]', '[{\"sql\": \"SELECT COUNT(*) FROM inspections WHERE industry =\\'mining\\' AND inspection_date >= DATE_SUB(CURRENT_DATE, INTERVAL 1 YEAR);\"}]', '[{\"sql\": \"UPDATE community_education SET description = \\'A program that allows individuals or groups to sponsor the preservation of a wetland.\\' WHERE program_name = \\'Adopt-A-Wetland\\';\"}]', '[{\"sql\": \"SELECT COUNT(*) FROM education_programs WHERE year IN (2021, 2022);\"}]', '[{\"sql\": \"SELECT event, attendance FROM CulturalEvents ORDER BY attendance DESC LIMIT 3;\"}]']\n",
      "{'bleu': {'bleu': 0.18846052622392523, 'precisions': [0.20867379006913891, 0.1946082561078349, 0.18219352106711836, 0.17049808429118773], 'brevity_penalty': 1.0, 'length_ratio': 4.6384839650145775, 'translation_length': 9546, 'reference_length': 2058}, 'exact_match': np.float64(0.0)}\n"
     ]
    },
    {
     "data": {
      "text/plain": [
       "{'eval_loss': 0.017283864319324493,\n",
       " 'eval_model_preparation_time': 0.0026,\n",
       " 'eval_bleu': 18.85,\n",
       " 'eval_exact_match': 0.0,\n",
       " 'eval_runtime': 208.1133,\n",
       " 'eval_samples_per_second': 0.24,\n",
       " 'eval_steps_per_second': 0.12}"
      ]
     },
     "execution_count": 11,
     "metadata": {},
     "output_type": "execute_result"
    }
   ],
   "source": [
    "trainer.evaluate()"
   ]
  },
  {
   "cell_type": "code",
   "execution_count": 12,
   "id": "9666a6d0",
   "metadata": {},
   "outputs": [],
   "source": [
    "\n",
    "# max_retries = 55\n",
    "# final_model_dir = \"/Users/mann.kurani.ctr/Desktop/Personal_Code/SQL Finetune/models/finetuned_final_2_tinyllama\"\n",
    "\n",
    "# for attempt in range(max_retries):\n",
    "#     try:\n",
    "#         if attempt == 0:\n",
    "#             # Start fresh\n",
    "#             trainer.train()\n",
    "#         else:\n",
    "#             # Resume from checkpoint\n",
    "#             trainer.train(resume_from_checkpoint=True)\n",
    "#         # trainer.train(resume_from_checkpoint=True)\n",
    "#         trainer.model.save_pretrained(final_model_dir)\n",
    "#         print(\"Training complete. Model saved.\")\n",
    "#         break\n",
    "\n",
    "#     except RuntimeError as e:\n",
    "#         print(f\"[Attempt {attempt + 1}] RuntimeError during training: {e}\")\n",
    "#         print(\"Retrying after short delay...\")\n",
    "#         time.sleep(10)\n",
    "#         torch.mps.empty_cache()\n",
    "# else:\n",
    "#     print(\"Training failed after maximum retries.\")\n",
    "\n",
    "\n",
    "\n",
    "# # do train.evaluate with printing the custom metrics, what is the issue? why is it showing 0?\n",
    "\n",
    "\n",
    "\n",
    "\n",
    "\n",
    "\n",
    "\n"
   ]
  },
  {
   "cell_type": "code",
   "execution_count": null,
   "id": "c0b5ab76",
   "metadata": {},
   "outputs": [],
   "source": []
  },
  {
   "cell_type": "code",
   "execution_count": 6,
   "id": "2dfbe896",
   "metadata": {},
   "outputs": [],
   "source": [
    "# Load the PEFT config to get the base model name\n",
    "adapter_path = \"/Users/mann.kurani.ctr/Desktop/Personal_Code/SQL Finetune/models/finetuned_final_3_adaptor_tinyllama\"\n",
    "peft_config = PeftConfig.from_pretrained(adapter_path)\n",
    "\n",
    "# Load the base model\n",
    "base_model = AutoModelForCausalLM.from_pretrained(peft_config.base_model_name_or_path)\n",
    "\n",
    "# Load the LoRA adapter into the base model\n",
    "model = PeftModel.from_pretrained(base_model, adapter_path)"
   ]
  },
  {
   "cell_type": "code",
   "execution_count": 7,
   "id": "1421c48f",
   "metadata": {},
   "outputs": [],
   "source": [
    "# Merge LoRA weights into the base model\n",
    "model = model.merge_and_unload()\n"
   ]
  },
  {
   "cell_type": "code",
   "execution_count": 8,
   "id": "f8637236",
   "metadata": {},
   "outputs": [],
   "source": [
    "save_path = \"/Users/mann.kurani.ctr/Desktop/Personal_Code/SQL Finetune/models/finetuned_final_3_tinyllama\"\n",
    "model.save_pretrained(save_path)"
   ]
  },
  {
   "cell_type": "code",
   "execution_count": null,
   "id": "6c05c4a0",
   "metadata": {},
   "outputs": [
    {
     "data": {
      "text/plain": [
       "LlamaForCausalLM(\n",
       "  (model): LlamaModel(\n",
       "    (embed_tokens): Embedding(128256, 2048)\n",
       "    (layers): ModuleList(\n",
       "      (0-15): 16 x LlamaDecoderLayer(\n",
       "        (self_attn): LlamaAttention(\n",
       "          (q_proj): Linear(in_features=2048, out_features=2048, bias=False)\n",
       "          (k_proj): Linear(in_features=2048, out_features=512, bias=False)\n",
       "          (v_proj): Linear(in_features=2048, out_features=512, bias=False)\n",
       "          (o_proj): Linear(in_features=2048, out_features=2048, bias=False)\n",
       "        )\n",
       "        (mlp): LlamaMLP(\n",
       "          (gate_proj): Linear(in_features=2048, out_features=8192, bias=False)\n",
       "          (up_proj): Linear(in_features=2048, out_features=8192, bias=False)\n",
       "          (down_proj): Linear(in_features=8192, out_features=2048, bias=False)\n",
       "          (act_fn): SiLU()\n",
       "        )\n",
       "        (input_layernorm): LlamaRMSNorm((2048,), eps=1e-05)\n",
       "        (post_attention_layernorm): LlamaRMSNorm((2048,), eps=1e-05)\n",
       "      )\n",
       "    )\n",
       "    (norm): LlamaRMSNorm((2048,), eps=1e-05)\n",
       "    (rotary_emb): LlamaRotaryEmbedding()\n",
       "  )\n",
       "  (lm_head): Linear(in_features=2048, out_features=128256, bias=False)\n",
       ")"
      ]
     },
     "execution_count": 9,
     "metadata": {},
     "output_type": "execute_result"
    },
    {
     "ename": "",
     "evalue": "",
     "output_type": "error",
     "traceback": [
      "\u001b[1;31mThe Kernel crashed while executing code in the current cell or a previous cell. \n",
      "\u001b[1;31mPlease review the code in the cell(s) to identify a possible cause of the failure. \n",
      "\u001b[1;31mClick <a href='https://aka.ms/vscodeJupyterKernelCrash'>here</a> for more info. \n",
      "\u001b[1;31mView Jupyter <a href='command:jupyter.viewOutput'>log</a> for further details."
     ]
    }
   ],
   "source": [
    "model"
   ]
  },
  {
   "cell_type": "code",
   "execution_count": null,
   "id": "f292710d",
   "metadata": {},
   "outputs": [],
   "source": [
    "decoded_labels = ['[{\"sql\": \"SELECT COUNT(*) FROM companies WHERE industry = \\'Fashion\\' AND founder_gender = \\'Female\\';\"}]', '[{\"sql\": \"SELECT MIN(marketing_budget) FROM Movies WHERE release_year > 2015;\"}]']\n",
    "decoded_preds = ['TagsTags<|eot_id|>:<|eot_id|>## are a detective assistant to provides text queries into SQL to a queries. I you modify any information information or explanations that than the SQL queries itself.\\n\\n<|eot_id|><|eot_id|><|eot_id|>culus\\n\\n[sql\":\": \"SELECT of have a power?\",<|eot_id|>sql\":\": \"The TABLE countriesWeapons (Country INT PRIMARY Country VARCHAR(50), Capabilityabilities BOOLEAN); SELECT<|eot_id|><|eot_id|><|eot_id|><|eot_id|><|eot_id|>[{\"sql\": \"SELECT Country FROM NuclearCapabilities WHERE Capable = TRUE;\"}]<|eot_id|><|eot_id|><|eot_id|><|eot_id|><|eot_id|><|eot_id|><|eot_id|><|eot_id|><|eot_id|><|eot_id|><|eot_id|><|eot_id|><|eot_id|><|eot_id|><|eot_id|><|eot_id|><|eot_id|><|eot_id|><|eot_id|><|eot_id|><|eot_id|><|eot_id|><|eot_id|><|eot_id|><|eot_id|><|eot_id|><|eot_id|><|eot_id|><|eot_id|><|eot_id|><|eot_id|><|eot_id|><|eot_id|><|eot_id|><|eot_id|><|eot_id|><|eot_id|><|eot_id|><|eot_id|><|eot_id|><|eot_id|><|eot_id|><|eot_id|><|eot_id|><|eot_id|><|eot_id|><|eot_id|><|eot_id|><|eot_id|><|eot_id|><|eot_id|><|eot_id|><|eot_id|><|eot_id|><|eot_id|><|eot_id|><|eot_id|><|eot_id|><|eot_id|><|eot_id|><|eot_id|><|eot_id|><|eot_id|><|eot_id|><|eot_id|><|eot_id|><|eot_id|><|eot_id|><|eot_id|><|eot_id|><|eot_id|><|eot_id|><|eot_id|><|eot_id|><|eot_id|><|eot_id|><|eot_id|><|eot_id|><|eot_id|><|eot_id|><|eot_id|><|eot_id|><|eot_id|><|eot_id|><|eot_id|><|eot_id|><|eot_id|><|eot_id|><|eot_id|><|eot_id|><|eot_id|><|eot_id|><|eot_id|><|eot_id|><|eot_id|><|eot_id|><|eot_id|><|eot_id|><|eot_id|><|eot_id|><|eot_id|><|eot_id|><|eot_id|><|eot_id|><|eot_id|><|eot_id|><|eot_id|><|eot_id|><|eot_id|><|eot_id|><|eot_id|><|eot_id|><|eot_id|><|eot_id|><|eot_id|><|eot_id|><|eot_id|><|eot_id|><|eot_id|><|eot_id|><|eot_id|><|eot_id|><|eot_id|><|eot_id|><|eot_id|><|eot_id|><|eot_id|><|eot_id|><|eot_id|><|eot_id|><|eot_id|><|eot_id|><|eot_id|><|eot_id|><|eot_id|><|eot_id|><|eot_id|><|eot_id|><|eot_id|><|eot_id|><|eot_id|><|eot_id|><|eot_id|><|eot_id|><|eot_id|><|eot_id|><|eot_id|><|eot_id|><|eot_id|><|eot_id|><|eot_id|><|eot_id|><|eot_id|><|eot_id|><|eot_id|><|eot_id|><|eot_id|><|eot_id|><|eot_id|><|eot_id|><|eot_id|><|eot_id|><|eot_id|><|eot_id|><|eot_id|><|eot_id|><|eot_id|><|eot_id|><|eot_id|><|eot_id|><|eot_id|><|eot_id|><|eot_id|><|eot_id|><|eot_id|><|eot_id|><|eot_id|><|eot_id|><|eot_id|><|eot_id|><|eot_id|><|eot_id|><|eot_id|><|eot_id|><|eot_id|><|eot_id|><|eot_id|><|eot_id|><|eot_id|><|eot_id|><|eot_id|><|eot_id|><|eot_id|><|eot_id|><|eot_id|><|eot_id|><|eot_id|><|eot_id|><|eot_id|><|eot_id|><|eot_id|><|eot_id|><|eot_id|><|eot_id|><|eot_id|><|eot_id|><|eot_id|><|eot_id|><|eot_id|><|eot_id|><|eot_id|><|eot_id|><|eot_id|><|eot_id|><|eot_id|><|eot_id|><|eot_id|><|eot_id|><|eot_id|><|eot_id|><|eot_id|><|eot_id|><|eot_id|><|eot_id|><|eot_id|><|eot_id|><|eot_id|><|eot_id|><|eot_id|><|eot_id|><|eot_id|><|eot_id|><|eot_id|><|eot_id|><|eot_id|><|eot_id|><|eot_id|><|eot_id|><|eot_id|><|eot_id|><|eot_id|><|eot_id|><|eot_id|><|eot_id|><|eot_id|><|eot_id|><|eot_id|><|eot_id|><|eot_id|><|eot_id|><|eot_id|><|eot_id|><|eot_id|><|eot_id|><|eot_id|><|eot_id|><|eot_id|><|eot_id|><|eot_id|><|eot_id|><|eot_id|><|eot_id|><|eot_id|><|eot_id|><|eot_id|><|eot_id|><|eot_id|><|eot_id|><|eot_id|><|eot_id|><|eot_id|><|eot_id|><|eot_id|><|eot_id|><|eot_id|><|eot_id|><|eot_id|><|eot_id|><|eot_id|><|eot_id|><|eot_id|><|eot_id|><|eot_id|><|eot_id|><|eot_id|><|eot_id|><|eot_id|><|eot_id|><|eot_id|><|eot_id|><|eot_id|><|eot_id|><|eot_id|><|eot_id|><|eot_id|><|eot_id|><|eot_id|><|eot_id|><|eot_id|><|eot_id|><|eot_id|><|eot_id|><|eot_id|><|eot_id|><|eot_id|><|eot_id|><|eot_id|><|eot_id|><|eot_id|><|eot_id|><|eot_id|><|eot_id|><|eot_id|><|eot_id|><|eot_id|><|eot_id|><|eot_id|><|eot_id|><|eot_id|><|eot_id|><|eot_id|><|eot_id|><|eot_id|><|eot_id|><|eot_id|><|eot_id|><|eot_id|><|eot_id|><|eot_id|><|eot_id|><|eot_id|><|eot_id|><|eot_id|><|eot_id|><|eot_id|><|eot_id|><|eot_id|><|eot_id|><|eot_id|><|eot_id|><|eot_id|><|eot_id|><|eot_id|><|eot_id|><|eot_id|><|eot_id|><|eot_id|><|eot_id|><|eot_id|><|eot_id|><|eot_id|><|eot_id|><|eot_id|><|eot_id|><|eot_id|><|eot_id|><|eot_id|><|eot_id|><|eot_id|><|eot_id|><|eot_id|><|eot_id|><|eot_id|><|eot_id|><|eot_id|><|eot_id|><|eot_id|><|eot_id|><|eot_id|><|eot_id|><|eot_id|><|eot_id|><|eot_id|><|eot_id|><|eot_id|><|eot_id|><|eot_id|><|eot_id|><|eot_id|><|eot_id|><|eot_id|><|eot_id|><|eot_id|><|eot_id|><|eot_id|><|eot_id|><|eot_id|><|eot_id|><|eot_id|><|eot_id|><|eot_id|><|eot_id|><|eot_id|><|eot_id|><|eot_id|><|eot_id|><|eot_id|><|eot_id|><|eot_id|><|eot_id|><|eot_id|><|eot_id|><|eot_id|><|eot_id|><|eot_id|><|eot_id|><|eot_id|><|eot_id|><|eot_id|><|eot_id|><|eot_id|><|eot_id|><|eot_id|><|eot_id|>', 'TagsTags<|eot_id|>:<|eot_id|>## are a detective assistant to provides text queries into SQL to a queries. I you modify any information information or explanations that than the SQL queries itself.\\n\\n<|eot_id|><|eot_id|><|eot_id|>culus\\n\\n[sql\":\": \"SELECT is the average number traveled by all of the \\'? excluding by member and {\"sql\":\": \"SELECT TABLE members ( INT PRIMARY name VARCHAR(10), start_month_date_date DATE) SELECT INTO members (, gender, last_workout_date) VALUES (1,M\\',2022-01-01\\'), (2,\\'female\\',\\'2022-01-15\\'),(3,\\'male-binary\\',\\'2022-03-20\\');(4,\\'male\\',\\'2022-03-17\\'),(5,\\'female\\',\\'2022-02-18\\');(6,\\'non\\',\\'2022-02-19\\');(7,\\'female-binary\\',\\'2022-02-20\\');(8,\\'female\\',\\'2022-02-21\\');(9,\\'male\\',\\'2022-02-22\\');(10,\\'female-binary\\',\\'2022-02-23\\');(11,\\'female\\',\\'2022-02-24\\');(12,\\'male\\',\\'2022-02-25\\'); SELECT TABLE distances_log(id_id INT, distance_cover, workout_date DATE) INSERT INTO workout_data(member_id, distance, workout_date) VALUES (1,,2022-01-14\\'),(2,10,\\'2022-02-15\\'),(3,3,\\'2022-02-16\\'),(4,8,\\'2022-02-17\\'),(5,4,\\'2022-02-18\\'),(6,10,\\'2022-02-19\\'),(7,11,\\'2022-02-20\\'),(8,12,\\'2022-02-21\\'),(9,13,\\'2022-02-22\\'),(10,14,\\'2022-02-23\\'),(11,15,\\'2022-02-24\\'),(12,16,\\'2022-02-25\\'); SELECT<|eot_id|><|eot_id|><|eot_id|><|eot_id|><|eot_id|>[{\"sql\": \"SELECT m.gender, SUM(w.distance) as members m JOIN workout_data w ON m.id = w.member_id WHERE m.workout_date >= DATEADD(CURRENT_DATE, INTERVAL 1 MONTH) GROUP BY m.gender;\"}]<|eot_id|><|eot_id|><|eot_id|><|eot_id|><|eot_id|><|eot_id|><|eot_id|><|eot_id|><|eot_id|><|eot_id|><|eot_id|><|eot_id|><|eot_id|><|eot_id|><|eot_id|><|eot_id|><|eot_id|><|eot_id|><|eot_id|><|eot_id|><|eot_id|><|eot_id|><|eot_id|><|eot_id|><|eot_id|><|eot_id|><|eot_id|><|eot_id|><|eot_id|><|eot_id|><|eot_id|><|eot_id|><|eot_id|><|eot_id|><|eot_id|><|eot_id|><|eot_id|><|eot_id|><|eot_id|>']"
   ]
  },
  {
   "cell_type": "code",
   "execution_count": null,
   "id": "e73abebc",
   "metadata": {},
   "outputs": [
    {
     "name": "stdout",
     "output_type": "stream",
     "text": [
      "TagsTags<|eot_id|>:<|eot_id|>## are a detective assistant to provides text queries into SQL to a queries. I you modify any information information or explanations that than the SQL queries itself.\n",
      "\n",
      "<|eot_id|><|eot_id|><|eot_id|>culus\n",
      "\n",
      "[sql\":\": \"SELECT of have a power?\",<|eot_id|>sql\":\": \"The TABLE countriesWeapons (Country INT PRIMARY Country VARCHAR(50), Capabilityabilities BOOLEAN); SELECT<|eot_id|><|eot_id|><|eot_id|><|eot_id|><|eot_id|>[{\"sql\": \"SELECT Country FROM NuclearCapabilities WHERE Capable = TRUE;\"}]<|eot_id|><|eot_id|><|eot_id|><|eot_id|><|eot_id|><|eot_id|><|eot_id|><|eot_id|><|eot_id|><|eot_id|><|eot_id|><|eot_id|><|eot_id|><|eot_id|><|eot_id|><|eot_id|><|eot_id|><|eot_id|><|eot_id|><|eot_id|><|eot_id|><|eot_id|><|eot_id|><|eot_id|><|eot_id|><|eot_id|><|eot_id|><|eot_id|><|eot_id|><|eot_id|><|eot_id|><|eot_id|><|eot_id|><|eot_id|><|eot_id|><|eot_id|><|eot_id|><|eot_id|><|eot_id|><|eot_id|><|eot_id|><|eot_id|><|eot_id|><|eot_id|><|eot_id|><|eot_id|><|eot_id|><|eot_id|><|eot_id|><|eot_id|><|eot_id|><|eot_id|><|eot_id|><|eot_id|><|eot_id|><|eot_id|><|eot_id|><|eot_id|><|eot_id|><|eot_id|><|eot_id|><|eot_id|><|eot_id|><|eot_id|><|eot_id|><|eot_id|><|eot_id|><|eot_id|><|eot_id|><|eot_id|><|eot_id|><|eot_id|><|eot_id|><|eot_id|><|eot_id|><|eot_id|><|eot_id|><|eot_id|><|eot_id|><|eot_id|><|eot_id|><|eot_id|><|eot_id|><|eot_id|><|eot_id|><|eot_id|><|eot_id|><|eot_id|><|eot_id|><|eot_id|><|eot_id|><|eot_id|><|eot_id|><|eot_id|><|eot_id|><|eot_id|><|eot_id|><|eot_id|><|eot_id|><|eot_id|><|eot_id|><|eot_id|><|eot_id|><|eot_id|><|eot_id|><|eot_id|><|eot_id|><|eot_id|><|eot_id|><|eot_id|><|eot_id|><|eot_id|><|eot_id|><|eot_id|><|eot_id|><|eot_id|><|eot_id|><|eot_id|><|eot_id|><|eot_id|><|eot_id|><|eot_id|><|eot_id|><|eot_id|><|eot_id|><|eot_id|><|eot_id|><|eot_id|><|eot_id|><|eot_id|><|eot_id|><|eot_id|><|eot_id|><|eot_id|><|eot_id|><|eot_id|><|eot_id|><|eot_id|><|eot_id|><|eot_id|><|eot_id|><|eot_id|><|eot_id|><|eot_id|><|eot_id|><|eot_id|><|eot_id|><|eot_id|><|eot_id|><|eot_id|><|eot_id|><|eot_id|><|eot_id|><|eot_id|><|eot_id|><|eot_id|><|eot_id|><|eot_id|><|eot_id|><|eot_id|><|eot_id|><|eot_id|><|eot_id|><|eot_id|><|eot_id|><|eot_id|><|eot_id|><|eot_id|><|eot_id|><|eot_id|><|eot_id|><|eot_id|><|eot_id|><|eot_id|><|eot_id|><|eot_id|><|eot_id|><|eot_id|><|eot_id|><|eot_id|><|eot_id|><|eot_id|><|eot_id|><|eot_id|><|eot_id|><|eot_id|><|eot_id|><|eot_id|><|eot_id|><|eot_id|><|eot_id|><|eot_id|><|eot_id|><|eot_id|><|eot_id|><|eot_id|><|eot_id|><|eot_id|><|eot_id|><|eot_id|><|eot_id|><|eot_id|><|eot_id|><|eot_id|><|eot_id|><|eot_id|><|eot_id|><|eot_id|><|eot_id|><|eot_id|><|eot_id|><|eot_id|><|eot_id|><|eot_id|><|eot_id|><|eot_id|><|eot_id|><|eot_id|><|eot_id|><|eot_id|><|eot_id|><|eot_id|><|eot_id|><|eot_id|><|eot_id|><|eot_id|><|eot_id|><|eot_id|><|eot_id|><|eot_id|><|eot_id|><|eot_id|><|eot_id|><|eot_id|><|eot_id|><|eot_id|><|eot_id|><|eot_id|><|eot_id|><|eot_id|><|eot_id|><|eot_id|><|eot_id|><|eot_id|><|eot_id|><|eot_id|><|eot_id|><|eot_id|><|eot_id|><|eot_id|><|eot_id|><|eot_id|><|eot_id|><|eot_id|><|eot_id|><|eot_id|><|eot_id|><|eot_id|><|eot_id|><|eot_id|><|eot_id|><|eot_id|><|eot_id|><|eot_id|><|eot_id|><|eot_id|><|eot_id|><|eot_id|><|eot_id|><|eot_id|><|eot_id|><|eot_id|><|eot_id|><|eot_id|><|eot_id|><|eot_id|><|eot_id|><|eot_id|><|eot_id|><|eot_id|><|eot_id|><|eot_id|><|eot_id|><|eot_id|><|eot_id|><|eot_id|><|eot_id|><|eot_id|><|eot_id|><|eot_id|><|eot_id|><|eot_id|><|eot_id|><|eot_id|><|eot_id|><|eot_id|><|eot_id|><|eot_id|><|eot_id|><|eot_id|><|eot_id|><|eot_id|><|eot_id|><|eot_id|><|eot_id|><|eot_id|><|eot_id|><|eot_id|><|eot_id|><|eot_id|><|eot_id|><|eot_id|><|eot_id|><|eot_id|><|eot_id|><|eot_id|><|eot_id|><|eot_id|><|eot_id|><|eot_id|><|eot_id|><|eot_id|><|eot_id|><|eot_id|><|eot_id|><|eot_id|><|eot_id|><|eot_id|><|eot_id|><|eot_id|><|eot_id|><|eot_id|><|eot_id|><|eot_id|><|eot_id|><|eot_id|><|eot_id|><|eot_id|><|eot_id|><|eot_id|><|eot_id|><|eot_id|><|eot_id|><|eot_id|><|eot_id|><|eot_id|><|eot_id|><|eot_id|><|eot_id|><|eot_id|><|eot_id|><|eot_id|><|eot_id|><|eot_id|><|eot_id|><|eot_id|><|eot_id|><|eot_id|><|eot_id|><|eot_id|><|eot_id|><|eot_id|><|eot_id|><|eot_id|><|eot_id|><|eot_id|><|eot_id|><|eot_id|><|eot_id|><|eot_id|><|eot_id|><|eot_id|><|eot_id|><|eot_id|><|eot_id|><|eot_id|><|eot_id|><|eot_id|><|eot_id|><|eot_id|><|eot_id|><|eot_id|><|eot_id|><|eot_id|><|eot_id|><|eot_id|><|eot_id|><|eot_id|><|eot_id|><|eot_id|><|eot_id|><|eot_id|><|eot_id|><|eot_id|><|eot_id|><|eot_id|><|eot_id|><|eot_id|><|eot_id|><|eot_id|><|eot_id|><|eot_id|><|eot_id|><|eot_id|><|eot_id|><|eot_id|><|eot_id|><|eot_id|><|eot_id|><|eot_id|><|eot_id|><|eot_id|><|eot_id|><|eot_id|>\n"
     ]
    },
    {
     "ename": "",
     "evalue": "",
     "output_type": "error",
     "traceback": [
      "\u001b[1;31mThe Kernel crashed while executing code in the current cell or a previous cell. \n",
      "\u001b[1;31mPlease review the code in the cell(s) to identify a possible cause of the failure. \n",
      "\u001b[1;31mClick <a href='https://aka.ms/vscodeJupyterKernelCrash'>here</a> for more info. \n",
      "\u001b[1;31mView Jupyter <a href='command:jupyter.viewOutput'>log</a> for further details."
     ]
    }
   ],
   "source": [
    "print(decoded_preds[0])"
   ]
  },
  {
   "cell_type": "code",
   "execution_count": 43,
   "id": "5c38d0b6",
   "metadata": {},
   "outputs": [],
   "source": [
    "generated = decoded_preds[0].split(\"assistant\")[-1].strip()"
   ]
  },
  {
   "cell_type": "code",
   "execution_count": 44,
   "id": "027564ff",
   "metadata": {},
   "outputs": [
    {
     "data": {
      "text/plain": [
       "'to provides text queries into SQL to a queries. I you modify any information information or explanations that than the SQL queries itself.\\n\\nculus\\n\\n[sql\":\": \"SELECT is the average salary of all in the foresttrees\\'\\' category?sql\":\": \"SELECT TABLE \\'_trees (id INT PRIMARY name VARCHAR(255), age INT); SELECT INTO young_trees (id, species, age) VALUES (1, \\'Oak\\', 10), (2, \\'Maple\\', 10), (3, \\'Pine\\', 10); SELECT[{\"sql\": \"SELECT AVG(age) FROM young_trees;\"}]'"
      ]
     },
     "execution_count": 44,
     "metadata": {},
     "output_type": "execute_result"
    }
   ],
   "source": [
    "generated"
   ]
  },
  {
   "cell_type": "code",
   "execution_count": 6,
   "id": "cf5c3dd0",
   "metadata": {},
   "outputs": [
    {
     "name": "stdout",
     "output_type": "stream",
     "text": [
      "TagsTags:## off between Base:  2020\n",
      "\n",
      "The's: February09 March 2023\n",
      "\n",
      "This are a travel assistant. can units queries into SQL to code queries.\n",
      "\n",
      " Here you repeat any information information or explanations that than the SQL query itself.\n",
      "\n",
      "?\n",
      "\n",
      "\n",
      "\n",
      "Thesql\":\": \"Find all employees of their number of founders they founded founded, andsql\":\": \"Found TABLE founders {\n",
      "name INT PRIMARY name,(255), gender,(10), SELECT TABLE companies (id INT, founder_id INT, company VARCHAR(50));\"} INTO founders ( (1, 'Jane', 'female'); INSERT INTO companies VALUES (2, 'Bob', 'Male'); INSERT INTO founders ( (1, 1, 'Alice');'); INSERT INTO companies VALUES (2, 2, 'Bobve Inc.'); INSERT INTO companies VALUES (3, 2, 'Charlie Corp'); INSERT[{\"sql\": \"SELECT founders.name, COUNT(companies.id) FROM founders INNER JOIN companies ON founders.id = companies.founder_id WHERE founders.gender = 'Female' GROUP BY founders.name;\"}]\n"
     ]
    }
   ],
   "source": [
    "print(decoded_labels[0])"
   ]
  },
  {
   "cell_type": "code",
   "execution_count": null,
   "id": "f089d55a",
   "metadata": {},
   "outputs": [],
   "source": []
  }
 ],
 "metadata": {
  "kernelspec": {
   "display_name": "SQL Finetune",
   "language": "python",
   "name": "python3"
  },
  "language_info": {
   "codemirror_mode": {
    "name": "ipython",
    "version": 3
   },
   "file_extension": ".py",
   "mimetype": "text/x-python",
   "name": "python",
   "nbconvert_exporter": "python",
   "pygments_lexer": "ipython3",
   "version": "3.11.13"
  }
 },
 "nbformat": 4,
 "nbformat_minor": 5
}
